{
 "cells": [
  {
   "cell_type": "markdown",
   "metadata": {
    "button": false,
    "new_sheet": false,
    "run_control": {
     "read_only": false
    }
   },
   "source": [
    "\n",
    "# Multiple Linear Regression\n",
    "\n",
    "\n",
    "## Objetivos\n",
    "\n",
    "Após completar estes exercícios você obterá conhecimentos nas seguintes áreas:\n",
    "\n",
    "*   Usar a biblioteca scikit-learn para implementar Regressões Lineares Múltiplas\n",
    "*   Criar, Treinar e Testar um modelo\n",
    "*   Usar um modelo criado\n"
   ]
  },
  {
   "cell_type": "markdown",
   "metadata": {},
   "source": [
    "<h1>Índice</h1>\n",
    "\n",
    "<div class=\"alert alert-block alert-info\" style=\"margin-top: 20px\">\n",
    "    <ol>\n",
    "        <li><a href=\"https://#entendendodados\">Entendendo os Dados</a></li>\n",
    "        <li><a href=\"https://#Lendodados\">Lendo os Dados</a></li>\n",
    "        <li><a href=\"https://#multipla\">Modelo de Regressão Múltipla</a></li>\n",
    "        <li><a href=\"https://#predicao\">Predição</a></li>\n",
    "        <li><a href=\"https://#pratica\">Prática</a></li>\n",
    "    </ol>\n",
    "</div>\n",
    "<br>\n",
    "<hr>"
   ]
  },
  {
   "cell_type": "markdown",
   "metadata": {
    "button": false,
    "new_sheet": false,
    "run_control": {
     "read_only": false
    }
   },
   "source": [
    "### Importando os Pacotes necessários\n"
   ]
  },
  {
   "cell_type": "code",
   "execution_count": 336,
   "metadata": {
    "button": false,
    "new_sheet": false,
    "run_control": {
     "read_only": false
    }
   },
   "outputs": [],
   "source": [
    "import matplotlib.pyplot as plt\n",
    "import seaborn as sns\n",
    "import pandas as pd\n",
    "import pylab as pl\n",
    "import numpy as np\n",
    "import warnings\n",
    "import os\n",
    "\n",
    "%matplotlib inline\n",
    "warnings.filterwarnings('ignore')"
   ]
  },
  {
   "cell_type": "markdown",
   "metadata": {
    "button": false,
    "new_sheet": false,
    "run_control": {
     "read_only": false
    }
   },
   "source": [
    "<h2 id=\"entendendodados\">Entendendo os Dados</h2>\n",
    "\n",
    "### `FuelConsumption.csv`:\n",
    "\n",
    "Fizemos o download de um conjunto de dados de consumo de combustível, **FuelConsumption.csv**, que contém classificações de consumo de combustível específicas do modelo e emissões estimadas de dióxido de carbono para novos veículos leves para venda no varejo no Canadá. [Dataset source](http://open.canada.ca/data/en/dataset/98f1a129-f628-4ce4-b24d-6f16bf24dd64?utm_medium=Exinfluencer&utm_source=Exinfluencer&utm_content=000026UJ&utm_term=10006555&utm_id=NA-SkillsNetwork-Channel-SkillsNetworkCoursesIBMDeveloperSkillsNetworkML0101ENSkillsNetwork20718538-2022-01-01)\n",
    "\n",
    "*   **MODELYEAR** e.g. 2014\n",
    "*   **MAKE** e.g. Acura\n",
    "*   **MODEL** e.g. ILX\n",
    "*   **VEHICLE CLASS** e.g. SUV\n",
    "*   **ENGINE SIZE** e.g. 4.7\n",
    "*   **CYLINDERS** e.g 6\n",
    "*   **TRANSMISSION** e.g. A6\n",
    "*   **FUEL CONSUMPTION in CITY(L/100 km)** e.g. 9.9\n",
    "*   **FUEL CONSUMPTION in HWY (L/100 km)** e.g. 8.9\n",
    "*   **FUEL CONSUMPTION COMB (L/100 km)** e.g. 9.2\n",
    "*   **CO2 EMISSIONS (g/km)** e.g. 182   --> low --> 0\n",
    "\n"
   ]
  },
  {
   "cell_type": "markdown",
   "metadata": {
    "button": false,
    "new_sheet": false,
    "run_control": {
     "read_only": false
    }
   },
   "source": [
    "<h2 id=\"reading_data\">Lendo os Dados</h2>\n"
   ]
  },
  {
   "cell_type": "code",
   "execution_count": 337,
   "metadata": {
    "button": false,
    "new_sheet": false,
    "run_control": {
     "read_only": false
    }
   },
   "outputs": [
    {
     "data": {
      "text/plain": [
       "['AURA0168_AULA09-Simple-Linear-Regression.ipynb',\n",
       " 'AURA0168_AULA09-Mulitple-Linear-Regression_v1.ipynb',\n",
       " 'FuelConsumptionCo2.csv']"
      ]
     },
     "execution_count": 337,
     "metadata": {},
     "output_type": "execute_result"
    }
   ],
   "source": [
    "# Path do dataset na máquina\n",
    "path = r'./'\n",
    "os.chdir(path)\n",
    "os.listdir()"
   ]
  },
  {
   "cell_type": "code",
   "execution_count": 338,
   "metadata": {},
   "outputs": [],
   "source": [
    "# Carregando o Dataset\n",
    "df = pd.read_csv(\"FuelConsumptionCo2.csv\")"
   ]
  },
  {
   "cell_type": "code",
   "execution_count": 339,
   "metadata": {},
   "outputs": [
    {
     "data": {
      "text/html": [
       "<div>\n",
       "<style scoped>\n",
       "    .dataframe tbody tr th:only-of-type {\n",
       "        vertical-align: middle;\n",
       "    }\n",
       "\n",
       "    .dataframe tbody tr th {\n",
       "        vertical-align: top;\n",
       "    }\n",
       "\n",
       "    .dataframe thead th {\n",
       "        text-align: right;\n",
       "    }\n",
       "</style>\n",
       "<table border=\"1\" class=\"dataframe\">\n",
       "  <thead>\n",
       "    <tr style=\"text-align: right;\">\n",
       "      <th></th>\n",
       "      <th>MODELYEAR</th>\n",
       "      <th>MAKE</th>\n",
       "      <th>MODEL</th>\n",
       "      <th>VEHICLECLASS</th>\n",
       "      <th>ENGINESIZE</th>\n",
       "      <th>CYLINDERS</th>\n",
       "      <th>TRANSMISSION</th>\n",
       "      <th>FUELTYPE</th>\n",
       "      <th>FUELCONSUMPTION_CITY</th>\n",
       "      <th>FUELCONSUMPTION_HWY</th>\n",
       "      <th>FUELCONSUMPTION_COMB</th>\n",
       "      <th>FUELCONSUMPTION_COMB_MPG</th>\n",
       "      <th>CO2EMISSIONS</th>\n",
       "    </tr>\n",
       "  </thead>\n",
       "  <tbody>\n",
       "    <tr>\n",
       "      <th>0</th>\n",
       "      <td>2014</td>\n",
       "      <td>ACURA</td>\n",
       "      <td>ILX</td>\n",
       "      <td>COMPACT</td>\n",
       "      <td>2.0</td>\n",
       "      <td>4</td>\n",
       "      <td>AS5</td>\n",
       "      <td>Z</td>\n",
       "      <td>9.9</td>\n",
       "      <td>6.7</td>\n",
       "      <td>8.5</td>\n",
       "      <td>33</td>\n",
       "      <td>196</td>\n",
       "    </tr>\n",
       "    <tr>\n",
       "      <th>1</th>\n",
       "      <td>2014</td>\n",
       "      <td>ACURA</td>\n",
       "      <td>ILX</td>\n",
       "      <td>COMPACT</td>\n",
       "      <td>2.4</td>\n",
       "      <td>4</td>\n",
       "      <td>M6</td>\n",
       "      <td>Z</td>\n",
       "      <td>11.2</td>\n",
       "      <td>7.7</td>\n",
       "      <td>9.6</td>\n",
       "      <td>29</td>\n",
       "      <td>221</td>\n",
       "    </tr>\n",
       "    <tr>\n",
       "      <th>2</th>\n",
       "      <td>2014</td>\n",
       "      <td>ACURA</td>\n",
       "      <td>ILX HYBRID</td>\n",
       "      <td>COMPACT</td>\n",
       "      <td>1.5</td>\n",
       "      <td>4</td>\n",
       "      <td>AV7</td>\n",
       "      <td>Z</td>\n",
       "      <td>6.0</td>\n",
       "      <td>5.8</td>\n",
       "      <td>5.9</td>\n",
       "      <td>48</td>\n",
       "      <td>136</td>\n",
       "    </tr>\n",
       "    <tr>\n",
       "      <th>3</th>\n",
       "      <td>2014</td>\n",
       "      <td>ACURA</td>\n",
       "      <td>MDX 4WD</td>\n",
       "      <td>SUV - SMALL</td>\n",
       "      <td>3.5</td>\n",
       "      <td>6</td>\n",
       "      <td>AS6</td>\n",
       "      <td>Z</td>\n",
       "      <td>12.7</td>\n",
       "      <td>9.1</td>\n",
       "      <td>11.1</td>\n",
       "      <td>25</td>\n",
       "      <td>255</td>\n",
       "    </tr>\n",
       "    <tr>\n",
       "      <th>4</th>\n",
       "      <td>2014</td>\n",
       "      <td>ACURA</td>\n",
       "      <td>RDX AWD</td>\n",
       "      <td>SUV - SMALL</td>\n",
       "      <td>3.5</td>\n",
       "      <td>6</td>\n",
       "      <td>AS6</td>\n",
       "      <td>Z</td>\n",
       "      <td>12.1</td>\n",
       "      <td>8.7</td>\n",
       "      <td>10.6</td>\n",
       "      <td>27</td>\n",
       "      <td>244</td>\n",
       "    </tr>\n",
       "  </tbody>\n",
       "</table>\n",
       "</div>"
      ],
      "text/plain": [
       "   MODELYEAR   MAKE       MODEL VEHICLECLASS  ENGINESIZE  CYLINDERS  \\\n",
       "0       2014  ACURA         ILX      COMPACT         2.0          4   \n",
       "1       2014  ACURA         ILX      COMPACT         2.4          4   \n",
       "2       2014  ACURA  ILX HYBRID      COMPACT         1.5          4   \n",
       "3       2014  ACURA     MDX 4WD  SUV - SMALL         3.5          6   \n",
       "4       2014  ACURA     RDX AWD  SUV - SMALL         3.5          6   \n",
       "\n",
       "  TRANSMISSION FUELTYPE  FUELCONSUMPTION_CITY  FUELCONSUMPTION_HWY  \\\n",
       "0          AS5        Z                   9.9                  6.7   \n",
       "1           M6        Z                  11.2                  7.7   \n",
       "2          AV7        Z                   6.0                  5.8   \n",
       "3          AS6        Z                  12.7                  9.1   \n",
       "4          AS6        Z                  12.1                  8.7   \n",
       "\n",
       "   FUELCONSUMPTION_COMB  FUELCONSUMPTION_COMB_MPG  CO2EMISSIONS  \n",
       "0                   8.5                        33           196  \n",
       "1                   9.6                        29           221  \n",
       "2                   5.9                        48           136  \n",
       "3                  11.1                        25           255  \n",
       "4                  10.6                        27           244  "
      ]
     },
     "execution_count": 339,
     "metadata": {},
     "output_type": "execute_result"
    }
   ],
   "source": [
    "# take a look at the dataset\n",
    "df.head()"
   ]
  },
  {
   "cell_type": "markdown",
   "metadata": {},
   "source": [
    "### Data Exploration\n",
    "\n",
    "Vamos primeiro fazer uma exploração descritiva em nossos dados. "
   ]
  },
  {
   "cell_type": "code",
   "execution_count": 340,
   "metadata": {},
   "outputs": [
    {
     "data": {
      "text/html": [
       "<div>\n",
       "<style scoped>\n",
       "    .dataframe tbody tr th:only-of-type {\n",
       "        vertical-align: middle;\n",
       "    }\n",
       "\n",
       "    .dataframe tbody tr th {\n",
       "        vertical-align: top;\n",
       "    }\n",
       "\n",
       "    .dataframe thead th {\n",
       "        text-align: right;\n",
       "    }\n",
       "</style>\n",
       "<table border=\"1\" class=\"dataframe\">\n",
       "  <thead>\n",
       "    <tr style=\"text-align: right;\">\n",
       "      <th></th>\n",
       "      <th>MODELYEAR</th>\n",
       "      <th>ENGINESIZE</th>\n",
       "      <th>CYLINDERS</th>\n",
       "      <th>FUELCONSUMPTION_CITY</th>\n",
       "      <th>FUELCONSUMPTION_HWY</th>\n",
       "      <th>FUELCONSUMPTION_COMB</th>\n",
       "      <th>FUELCONSUMPTION_COMB_MPG</th>\n",
       "      <th>CO2EMISSIONS</th>\n",
       "    </tr>\n",
       "  </thead>\n",
       "  <tbody>\n",
       "    <tr>\n",
       "      <th>count</th>\n",
       "      <td>1067.0</td>\n",
       "      <td>1067.000000</td>\n",
       "      <td>1067.000000</td>\n",
       "      <td>1067.000000</td>\n",
       "      <td>1067.000000</td>\n",
       "      <td>1067.000000</td>\n",
       "      <td>1067.000000</td>\n",
       "      <td>1067.000000</td>\n",
       "    </tr>\n",
       "    <tr>\n",
       "      <th>mean</th>\n",
       "      <td>2014.0</td>\n",
       "      <td>3.346298</td>\n",
       "      <td>5.794752</td>\n",
       "      <td>13.296532</td>\n",
       "      <td>9.474602</td>\n",
       "      <td>11.580881</td>\n",
       "      <td>26.441425</td>\n",
       "      <td>256.228679</td>\n",
       "    </tr>\n",
       "    <tr>\n",
       "      <th>std</th>\n",
       "      <td>0.0</td>\n",
       "      <td>1.415895</td>\n",
       "      <td>1.797447</td>\n",
       "      <td>4.101253</td>\n",
       "      <td>2.794510</td>\n",
       "      <td>3.485595</td>\n",
       "      <td>7.468702</td>\n",
       "      <td>63.372304</td>\n",
       "    </tr>\n",
       "    <tr>\n",
       "      <th>min</th>\n",
       "      <td>2014.0</td>\n",
       "      <td>1.000000</td>\n",
       "      <td>3.000000</td>\n",
       "      <td>4.600000</td>\n",
       "      <td>4.900000</td>\n",
       "      <td>4.700000</td>\n",
       "      <td>11.000000</td>\n",
       "      <td>108.000000</td>\n",
       "    </tr>\n",
       "    <tr>\n",
       "      <th>25%</th>\n",
       "      <td>2014.0</td>\n",
       "      <td>2.000000</td>\n",
       "      <td>4.000000</td>\n",
       "      <td>10.250000</td>\n",
       "      <td>7.500000</td>\n",
       "      <td>9.000000</td>\n",
       "      <td>21.000000</td>\n",
       "      <td>207.000000</td>\n",
       "    </tr>\n",
       "    <tr>\n",
       "      <th>50%</th>\n",
       "      <td>2014.0</td>\n",
       "      <td>3.400000</td>\n",
       "      <td>6.000000</td>\n",
       "      <td>12.600000</td>\n",
       "      <td>8.800000</td>\n",
       "      <td>10.900000</td>\n",
       "      <td>26.000000</td>\n",
       "      <td>251.000000</td>\n",
       "    </tr>\n",
       "    <tr>\n",
       "      <th>75%</th>\n",
       "      <td>2014.0</td>\n",
       "      <td>4.300000</td>\n",
       "      <td>8.000000</td>\n",
       "      <td>15.550000</td>\n",
       "      <td>10.850000</td>\n",
       "      <td>13.350000</td>\n",
       "      <td>31.000000</td>\n",
       "      <td>294.000000</td>\n",
       "    </tr>\n",
       "    <tr>\n",
       "      <th>max</th>\n",
       "      <td>2014.0</td>\n",
       "      <td>8.400000</td>\n",
       "      <td>12.000000</td>\n",
       "      <td>30.200000</td>\n",
       "      <td>20.500000</td>\n",
       "      <td>25.800000</td>\n",
       "      <td>60.000000</td>\n",
       "      <td>488.000000</td>\n",
       "    </tr>\n",
       "  </tbody>\n",
       "</table>\n",
       "</div>"
      ],
      "text/plain": [
       "       MODELYEAR   ENGINESIZE    CYLINDERS  FUELCONSUMPTION_CITY  \\\n",
       "count     1067.0  1067.000000  1067.000000           1067.000000   \n",
       "mean      2014.0     3.346298     5.794752             13.296532   \n",
       "std          0.0     1.415895     1.797447              4.101253   \n",
       "min       2014.0     1.000000     3.000000              4.600000   \n",
       "25%       2014.0     2.000000     4.000000             10.250000   \n",
       "50%       2014.0     3.400000     6.000000             12.600000   \n",
       "75%       2014.0     4.300000     8.000000             15.550000   \n",
       "max       2014.0     8.400000    12.000000             30.200000   \n",
       "\n",
       "       FUELCONSUMPTION_HWY  FUELCONSUMPTION_COMB  FUELCONSUMPTION_COMB_MPG  \\\n",
       "count          1067.000000           1067.000000               1067.000000   \n",
       "mean              9.474602             11.580881                 26.441425   \n",
       "std               2.794510              3.485595                  7.468702   \n",
       "min               4.900000              4.700000                 11.000000   \n",
       "25%               7.500000              9.000000                 21.000000   \n",
       "50%               8.800000             10.900000                 26.000000   \n",
       "75%              10.850000             13.350000                 31.000000   \n",
       "max              20.500000             25.800000                 60.000000   \n",
       "\n",
       "       CO2EMISSIONS  \n",
       "count   1067.000000  \n",
       "mean     256.228679  \n",
       "std       63.372304  \n",
       "min      108.000000  \n",
       "25%      207.000000  \n",
       "50%      251.000000  \n",
       "75%      294.000000  \n",
       "max      488.000000  "
      ]
     },
     "execution_count": 340,
     "metadata": {},
     "output_type": "execute_result"
    }
   ],
   "source": [
    "# Sumarizar os dados\n",
    "df.describe()"
   ]
  },
  {
   "cell_type": "markdown",
   "metadata": {},
   "source": [
    "Vamos selecionar algumas variáveis que queremos usar para regressão."
   ]
  },
  {
   "cell_type": "code",
   "execution_count": 341,
   "metadata": {
    "button": false,
    "new_sheet": false,
    "run_control": {
     "read_only": false
    }
   },
   "outputs": [
    {
     "data": {
      "text/html": [
       "<div>\n",
       "<style scoped>\n",
       "    .dataframe tbody tr th:only-of-type {\n",
       "        vertical-align: middle;\n",
       "    }\n",
       "\n",
       "    .dataframe tbody tr th {\n",
       "        vertical-align: top;\n",
       "    }\n",
       "\n",
       "    .dataframe thead th {\n",
       "        text-align: right;\n",
       "    }\n",
       "</style>\n",
       "<table border=\"1\" class=\"dataframe\">\n",
       "  <thead>\n",
       "    <tr style=\"text-align: right;\">\n",
       "      <th></th>\n",
       "      <th>ENGINESIZE</th>\n",
       "      <th>CYLINDERS</th>\n",
       "      <th>FUELCONSUMPTION_CITY</th>\n",
       "      <th>FUELCONSUMPTION_HWY</th>\n",
       "      <th>FUELCONSUMPTION_COMB</th>\n",
       "      <th>CO2EMISSIONS</th>\n",
       "    </tr>\n",
       "  </thead>\n",
       "  <tbody>\n",
       "    <tr>\n",
       "      <th>0</th>\n",
       "      <td>2.0</td>\n",
       "      <td>4</td>\n",
       "      <td>9.9</td>\n",
       "      <td>6.7</td>\n",
       "      <td>8.5</td>\n",
       "      <td>196</td>\n",
       "    </tr>\n",
       "    <tr>\n",
       "      <th>1</th>\n",
       "      <td>2.4</td>\n",
       "      <td>4</td>\n",
       "      <td>11.2</td>\n",
       "      <td>7.7</td>\n",
       "      <td>9.6</td>\n",
       "      <td>221</td>\n",
       "    </tr>\n",
       "    <tr>\n",
       "      <th>2</th>\n",
       "      <td>1.5</td>\n",
       "      <td>4</td>\n",
       "      <td>6.0</td>\n",
       "      <td>5.8</td>\n",
       "      <td>5.9</td>\n",
       "      <td>136</td>\n",
       "    </tr>\n",
       "    <tr>\n",
       "      <th>3</th>\n",
       "      <td>3.5</td>\n",
       "      <td>6</td>\n",
       "      <td>12.7</td>\n",
       "      <td>9.1</td>\n",
       "      <td>11.1</td>\n",
       "      <td>255</td>\n",
       "    </tr>\n",
       "    <tr>\n",
       "      <th>4</th>\n",
       "      <td>3.5</td>\n",
       "      <td>6</td>\n",
       "      <td>12.1</td>\n",
       "      <td>8.7</td>\n",
       "      <td>10.6</td>\n",
       "      <td>244</td>\n",
       "    </tr>\n",
       "    <tr>\n",
       "      <th>5</th>\n",
       "      <td>3.5</td>\n",
       "      <td>6</td>\n",
       "      <td>11.9</td>\n",
       "      <td>7.7</td>\n",
       "      <td>10.0</td>\n",
       "      <td>230</td>\n",
       "    </tr>\n",
       "    <tr>\n",
       "      <th>6</th>\n",
       "      <td>3.5</td>\n",
       "      <td>6</td>\n",
       "      <td>11.8</td>\n",
       "      <td>8.1</td>\n",
       "      <td>10.1</td>\n",
       "      <td>232</td>\n",
       "    </tr>\n",
       "    <tr>\n",
       "      <th>7</th>\n",
       "      <td>3.7</td>\n",
       "      <td>6</td>\n",
       "      <td>12.8</td>\n",
       "      <td>9.0</td>\n",
       "      <td>11.1</td>\n",
       "      <td>255</td>\n",
       "    </tr>\n",
       "    <tr>\n",
       "      <th>8</th>\n",
       "      <td>3.7</td>\n",
       "      <td>6</td>\n",
       "      <td>13.4</td>\n",
       "      <td>9.5</td>\n",
       "      <td>11.6</td>\n",
       "      <td>267</td>\n",
       "    </tr>\n",
       "  </tbody>\n",
       "</table>\n",
       "</div>"
      ],
      "text/plain": [
       "   ENGINESIZE  CYLINDERS  FUELCONSUMPTION_CITY  FUELCONSUMPTION_HWY  \\\n",
       "0         2.0          4                   9.9                  6.7   \n",
       "1         2.4          4                  11.2                  7.7   \n",
       "2         1.5          4                   6.0                  5.8   \n",
       "3         3.5          6                  12.7                  9.1   \n",
       "4         3.5          6                  12.1                  8.7   \n",
       "5         3.5          6                  11.9                  7.7   \n",
       "6         3.5          6                  11.8                  8.1   \n",
       "7         3.7          6                  12.8                  9.0   \n",
       "8         3.7          6                  13.4                  9.5   \n",
       "\n",
       "   FUELCONSUMPTION_COMB  CO2EMISSIONS  \n",
       "0                   8.5           196  \n",
       "1                   9.6           221  \n",
       "2                   5.9           136  \n",
       "3                  11.1           255  \n",
       "4                  10.6           244  \n",
       "5                  10.0           230  \n",
       "6                  10.1           232  \n",
       "7                  11.1           255  \n",
       "8                  11.6           267  "
      ]
     },
     "execution_count": 341,
     "metadata": {},
     "output_type": "execute_result"
    }
   ],
   "source": [
    "cdf = df[['ENGINESIZE','CYLINDERS','FUELCONSUMPTION_CITY',\n",
    "          'FUELCONSUMPTION_HWY','FUELCONSUMPTION_COMB',\n",
    "          'CO2EMISSIONS']]\n",
    "cdf.head(9)"
   ]
  },
  {
   "cell_type": "markdown",
   "metadata": {},
   "source": [
    "### Pearson Correlation\n",
    "\n",
    "Checando a correlação entre as variáveis."
   ]
  },
  {
   "cell_type": "code",
   "execution_count": 342,
   "metadata": {},
   "outputs": [],
   "source": [
    "# Alterar Nomes das Colunas\n",
    "df.rename(columns={'FUELCONSUMPTION_CITY': 'FUELCONSCITY',\n",
    "                   'FUELCONSUMPTION_HWY': 'FUELCONSHWY',\n",
    "                   'FUELCONSUMPTION_COMB': 'FUELCONSCOMB', \n",
    "                   'FUELCONSUMPTION_COMB_MPG': 'FUELCONSCOMBMPG'}, inplace=True)"
   ]
  },
  {
   "cell_type": "code",
   "execution_count": 343,
   "metadata": {},
   "outputs": [
    {
     "data": {
      "text/html": [
       "<style  type=\"text/css\" >\n",
       "#T_e4ee1b7e_5580_11ed_a10f_7cb27d331107row0_col0,#T_e4ee1b7e_5580_11ed_a10f_7cb27d331107row1_col1,#T_e4ee1b7e_5580_11ed_a10f_7cb27d331107row2_col2,#T_e4ee1b7e_5580_11ed_a10f_7cb27d331107row2_col4,#T_e4ee1b7e_5580_11ed_a10f_7cb27d331107row3_col3,#T_e4ee1b7e_5580_11ed_a10f_7cb27d331107row4_col2,#T_e4ee1b7e_5580_11ed_a10f_7cb27d331107row4_col4,#T_e4ee1b7e_5580_11ed_a10f_7cb27d331107row5_col5,#T_e4ee1b7e_5580_11ed_a10f_7cb27d331107row6_col6{\n",
       "            background-color:  #00441b;\n",
       "            color:  #f1f1f1;\n",
       "        }#T_e4ee1b7e_5580_11ed_a10f_7cb27d331107row0_col1,#T_e4ee1b7e_5580_11ed_a10f_7cb27d331107row1_col0{\n",
       "            background-color:  #005020;\n",
       "            color:  #f1f1f1;\n",
       "        }#T_e4ee1b7e_5580_11ed_a10f_7cb27d331107row0_col2{\n",
       "            background-color:  #006027;\n",
       "            color:  #f1f1f1;\n",
       "        }#T_e4ee1b7e_5580_11ed_a10f_7cb27d331107row0_col3,#T_e4ee1b7e_5580_11ed_a10f_7cb27d331107row1_col4,#T_e4ee1b7e_5580_11ed_a10f_7cb27d331107row2_col1{\n",
       "            background-color:  #00692a;\n",
       "            color:  #f1f1f1;\n",
       "        }#T_e4ee1b7e_5580_11ed_a10f_7cb27d331107row0_col4,#T_e4ee1b7e_5580_11ed_a10f_7cb27d331107row2_col0{\n",
       "            background-color:  #006227;\n",
       "            color:  #f1f1f1;\n",
       "        }#T_e4ee1b7e_5580_11ed_a10f_7cb27d331107row0_col5{\n",
       "            background-color:  #eef8fb;\n",
       "            color:  #000000;\n",
       "        }#T_e4ee1b7e_5580_11ed_a10f_7cb27d331107row0_col6{\n",
       "            background-color:  #005924;\n",
       "            color:  #f1f1f1;\n",
       "        }#T_e4ee1b7e_5580_11ed_a10f_7cb27d331107row1_col2{\n",
       "            background-color:  #006529;\n",
       "            color:  #f1f1f1;\n",
       "        }#T_e4ee1b7e_5580_11ed_a10f_7cb27d331107row1_col3{\n",
       "            background-color:  #067230;\n",
       "            color:  #f1f1f1;\n",
       "        }#T_e4ee1b7e_5580_11ed_a10f_7cb27d331107row1_col5{\n",
       "            background-color:  #ebf7fa;\n",
       "            color:  #000000;\n",
       "        }#T_e4ee1b7e_5580_11ed_a10f_7cb27d331107row1_col6{\n",
       "            background-color:  #005e26;\n",
       "            color:  #f1f1f1;\n",
       "        }#T_e4ee1b7e_5580_11ed_a10f_7cb27d331107row2_col3,#T_e4ee1b7e_5580_11ed_a10f_7cb27d331107row3_col2{\n",
       "            background-color:  #00491d;\n",
       "            color:  #f1f1f1;\n",
       "        }#T_e4ee1b7e_5580_11ed_a10f_7cb27d331107row2_col5,#T_e4ee1b7e_5580_11ed_a10f_7cb27d331107row5_col0,#T_e4ee1b7e_5580_11ed_a10f_7cb27d331107row5_col1,#T_e4ee1b7e_5580_11ed_a10f_7cb27d331107row5_col2,#T_e4ee1b7e_5580_11ed_a10f_7cb27d331107row5_col3,#T_e4ee1b7e_5580_11ed_a10f_7cb27d331107row5_col4,#T_e4ee1b7e_5580_11ed_a10f_7cb27d331107row5_col6{\n",
       "            background-color:  #f7fcfd;\n",
       "            color:  #000000;\n",
       "        }#T_e4ee1b7e_5580_11ed_a10f_7cb27d331107row2_col6,#T_e4ee1b7e_5580_11ed_a10f_7cb27d331107row6_col2{\n",
       "            background-color:  #005522;\n",
       "            color:  #f1f1f1;\n",
       "        }#T_e4ee1b7e_5580_11ed_a10f_7cb27d331107row3_col0{\n",
       "            background-color:  #006c2c;\n",
       "            color:  #f1f1f1;\n",
       "        }#T_e4ee1b7e_5580_11ed_a10f_7cb27d331107row3_col1{\n",
       "            background-color:  #087432;\n",
       "            color:  #f1f1f1;\n",
       "        }#T_e4ee1b7e_5580_11ed_a10f_7cb27d331107row3_col4,#T_e4ee1b7e_5580_11ed_a10f_7cb27d331107row4_col3{\n",
       "            background-color:  #00451c;\n",
       "            color:  #f1f1f1;\n",
       "        }#T_e4ee1b7e_5580_11ed_a10f_7cb27d331107row3_col5{\n",
       "            background-color:  #f4fbfc;\n",
       "            color:  #000000;\n",
       "        }#T_e4ee1b7e_5580_11ed_a10f_7cb27d331107row3_col6,#T_e4ee1b7e_5580_11ed_a10f_7cb27d331107row6_col3{\n",
       "            background-color:  #005b25;\n",
       "            color:  #f1f1f1;\n",
       "        }#T_e4ee1b7e_5580_11ed_a10f_7cb27d331107row4_col0{\n",
       "            background-color:  #006428;\n",
       "            color:  #f1f1f1;\n",
       "        }#T_e4ee1b7e_5580_11ed_a10f_7cb27d331107row4_col1{\n",
       "            background-color:  #006d2c;\n",
       "            color:  #f1f1f1;\n",
       "        }#T_e4ee1b7e_5580_11ed_a10f_7cb27d331107row4_col5{\n",
       "            background-color:  #f6fcfd;\n",
       "            color:  #000000;\n",
       "        }#T_e4ee1b7e_5580_11ed_a10f_7cb27d331107row4_col6,#T_e4ee1b7e_5580_11ed_a10f_7cb27d331107row6_col4{\n",
       "            background-color:  #005622;\n",
       "            color:  #f1f1f1;\n",
       "        }#T_e4ee1b7e_5580_11ed_a10f_7cb27d331107row6_col0{\n",
       "            background-color:  #005a24;\n",
       "            color:  #f1f1f1;\n",
       "        }#T_e4ee1b7e_5580_11ed_a10f_7cb27d331107row6_col1{\n",
       "            background-color:  #005f26;\n",
       "            color:  #f1f1f1;\n",
       "        }#T_e4ee1b7e_5580_11ed_a10f_7cb27d331107row6_col5{\n",
       "            background-color:  #f5fbfd;\n",
       "            color:  #000000;\n",
       "        }</style><table id=\"T_e4ee1b7e_5580_11ed_a10f_7cb27d331107\" ><thead>    <tr>        <th class=\"blank level0\" ></th>        <th class=\"col_heading level0 col0\" >ENGINESIZE</th>        <th class=\"col_heading level0 col1\" >CYLINDERS</th>        <th class=\"col_heading level0 col2\" >FUELCONSCITY</th>        <th class=\"col_heading level0 col3\" >FUELCONSHWY</th>        <th class=\"col_heading level0 col4\" >FUELCONSCOMB</th>        <th class=\"col_heading level0 col5\" >FUELCONSCOMBMPG</th>        <th class=\"col_heading level0 col6\" >CO2EMISSIONS</th>    </tr></thead><tbody>\n",
       "                <tr>\n",
       "                        <th id=\"T_e4ee1b7e_5580_11ed_a10f_7cb27d331107level0_row0\" class=\"row_heading level0 row0\" >ENGINESIZE</th>\n",
       "                        <td id=\"T_e4ee1b7e_5580_11ed_a10f_7cb27d331107row0_col0\" class=\"data row0 col0\" >1.00</td>\n",
       "                        <td id=\"T_e4ee1b7e_5580_11ed_a10f_7cb27d331107row0_col1\" class=\"data row0 col1\" >0.93</td>\n",
       "                        <td id=\"T_e4ee1b7e_5580_11ed_a10f_7cb27d331107row0_col2\" class=\"data row0 col2\" >0.83</td>\n",
       "                        <td id=\"T_e4ee1b7e_5580_11ed_a10f_7cb27d331107row0_col3\" class=\"data row0 col3\" >0.78</td>\n",
       "                        <td id=\"T_e4ee1b7e_5580_11ed_a10f_7cb27d331107row0_col4\" class=\"data row0 col4\" >0.82</td>\n",
       "                        <td id=\"T_e4ee1b7e_5580_11ed_a10f_7cb27d331107row0_col5\" class=\"data row0 col5\" >-0.81</td>\n",
       "                        <td id=\"T_e4ee1b7e_5580_11ed_a10f_7cb27d331107row0_col6\" class=\"data row0 col6\" >0.87</td>\n",
       "            </tr>\n",
       "            <tr>\n",
       "                        <th id=\"T_e4ee1b7e_5580_11ed_a10f_7cb27d331107level0_row1\" class=\"row_heading level0 row1\" >CYLINDERS</th>\n",
       "                        <td id=\"T_e4ee1b7e_5580_11ed_a10f_7cb27d331107row1_col0\" class=\"data row1 col0\" >0.93</td>\n",
       "                        <td id=\"T_e4ee1b7e_5580_11ed_a10f_7cb27d331107row1_col1\" class=\"data row1 col1\" >1.00</td>\n",
       "                        <td id=\"T_e4ee1b7e_5580_11ed_a10f_7cb27d331107row1_col2\" class=\"data row1 col2\" >0.80</td>\n",
       "                        <td id=\"T_e4ee1b7e_5580_11ed_a10f_7cb27d331107row1_col3\" class=\"data row1 col3\" >0.72</td>\n",
       "                        <td id=\"T_e4ee1b7e_5580_11ed_a10f_7cb27d331107row1_col4\" class=\"data row1 col4\" >0.78</td>\n",
       "                        <td id=\"T_e4ee1b7e_5580_11ed_a10f_7cb27d331107row1_col5\" class=\"data row1 col5\" >-0.77</td>\n",
       "                        <td id=\"T_e4ee1b7e_5580_11ed_a10f_7cb27d331107row1_col6\" class=\"data row1 col6\" >0.85</td>\n",
       "            </tr>\n",
       "            <tr>\n",
       "                        <th id=\"T_e4ee1b7e_5580_11ed_a10f_7cb27d331107level0_row2\" class=\"row_heading level0 row2\" >FUELCONSCITY</th>\n",
       "                        <td id=\"T_e4ee1b7e_5580_11ed_a10f_7cb27d331107row2_col0\" class=\"data row2 col0\" >0.83</td>\n",
       "                        <td id=\"T_e4ee1b7e_5580_11ed_a10f_7cb27d331107row2_col1\" class=\"data row2 col1\" >0.80</td>\n",
       "                        <td id=\"T_e4ee1b7e_5580_11ed_a10f_7cb27d331107row2_col2\" class=\"data row2 col2\" >1.00</td>\n",
       "                        <td id=\"T_e4ee1b7e_5580_11ed_a10f_7cb27d331107row2_col3\" class=\"data row2 col3\" >0.97</td>\n",
       "                        <td id=\"T_e4ee1b7e_5580_11ed_a10f_7cb27d331107row2_col4\" class=\"data row2 col4\" >1.00</td>\n",
       "                        <td id=\"T_e4ee1b7e_5580_11ed_a10f_7cb27d331107row2_col5\" class=\"data row2 col5\" >-0.94</td>\n",
       "                        <td id=\"T_e4ee1b7e_5580_11ed_a10f_7cb27d331107row2_col6\" class=\"data row2 col6\" >0.90</td>\n",
       "            </tr>\n",
       "            <tr>\n",
       "                        <th id=\"T_e4ee1b7e_5580_11ed_a10f_7cb27d331107level0_row3\" class=\"row_heading level0 row3\" >FUELCONSHWY</th>\n",
       "                        <td id=\"T_e4ee1b7e_5580_11ed_a10f_7cb27d331107row3_col0\" class=\"data row3 col0\" >0.78</td>\n",
       "                        <td id=\"T_e4ee1b7e_5580_11ed_a10f_7cb27d331107row3_col1\" class=\"data row3 col1\" >0.72</td>\n",
       "                        <td id=\"T_e4ee1b7e_5580_11ed_a10f_7cb27d331107row3_col2\" class=\"data row3 col2\" >0.97</td>\n",
       "                        <td id=\"T_e4ee1b7e_5580_11ed_a10f_7cb27d331107row3_col3\" class=\"data row3 col3\" >1.00</td>\n",
       "                        <td id=\"T_e4ee1b7e_5580_11ed_a10f_7cb27d331107row3_col4\" class=\"data row3 col4\" >0.99</td>\n",
       "                        <td id=\"T_e4ee1b7e_5580_11ed_a10f_7cb27d331107row3_col5\" class=\"data row3 col5\" >-0.89</td>\n",
       "                        <td id=\"T_e4ee1b7e_5580_11ed_a10f_7cb27d331107row3_col6\" class=\"data row3 col6\" >0.86</td>\n",
       "            </tr>\n",
       "            <tr>\n",
       "                        <th id=\"T_e4ee1b7e_5580_11ed_a10f_7cb27d331107level0_row4\" class=\"row_heading level0 row4\" >FUELCONSCOMB</th>\n",
       "                        <td id=\"T_e4ee1b7e_5580_11ed_a10f_7cb27d331107row4_col0\" class=\"data row4 col0\" >0.82</td>\n",
       "                        <td id=\"T_e4ee1b7e_5580_11ed_a10f_7cb27d331107row4_col1\" class=\"data row4 col1\" >0.78</td>\n",
       "                        <td id=\"T_e4ee1b7e_5580_11ed_a10f_7cb27d331107row4_col2\" class=\"data row4 col2\" >1.00</td>\n",
       "                        <td id=\"T_e4ee1b7e_5580_11ed_a10f_7cb27d331107row4_col3\" class=\"data row4 col3\" >0.99</td>\n",
       "                        <td id=\"T_e4ee1b7e_5580_11ed_a10f_7cb27d331107row4_col4\" class=\"data row4 col4\" >1.00</td>\n",
       "                        <td id=\"T_e4ee1b7e_5580_11ed_a10f_7cb27d331107row4_col5\" class=\"data row4 col5\" >-0.93</td>\n",
       "                        <td id=\"T_e4ee1b7e_5580_11ed_a10f_7cb27d331107row4_col6\" class=\"data row4 col6\" >0.89</td>\n",
       "            </tr>\n",
       "            <tr>\n",
       "                        <th id=\"T_e4ee1b7e_5580_11ed_a10f_7cb27d331107level0_row5\" class=\"row_heading level0 row5\" >FUELCONSCOMBMPG</th>\n",
       "                        <td id=\"T_e4ee1b7e_5580_11ed_a10f_7cb27d331107row5_col0\" class=\"data row5 col0\" >-0.81</td>\n",
       "                        <td id=\"T_e4ee1b7e_5580_11ed_a10f_7cb27d331107row5_col1\" class=\"data row5 col1\" >-0.77</td>\n",
       "                        <td id=\"T_e4ee1b7e_5580_11ed_a10f_7cb27d331107row5_col2\" class=\"data row5 col2\" >-0.94</td>\n",
       "                        <td id=\"T_e4ee1b7e_5580_11ed_a10f_7cb27d331107row5_col3\" class=\"data row5 col3\" >-0.89</td>\n",
       "                        <td id=\"T_e4ee1b7e_5580_11ed_a10f_7cb27d331107row5_col4\" class=\"data row5 col4\" >-0.93</td>\n",
       "                        <td id=\"T_e4ee1b7e_5580_11ed_a10f_7cb27d331107row5_col5\" class=\"data row5 col5\" >1.00</td>\n",
       "                        <td id=\"T_e4ee1b7e_5580_11ed_a10f_7cb27d331107row5_col6\" class=\"data row5 col6\" >-0.91</td>\n",
       "            </tr>\n",
       "            <tr>\n",
       "                        <th id=\"T_e4ee1b7e_5580_11ed_a10f_7cb27d331107level0_row6\" class=\"row_heading level0 row6\" >CO2EMISSIONS</th>\n",
       "                        <td id=\"T_e4ee1b7e_5580_11ed_a10f_7cb27d331107row6_col0\" class=\"data row6 col0\" >0.87</td>\n",
       "                        <td id=\"T_e4ee1b7e_5580_11ed_a10f_7cb27d331107row6_col1\" class=\"data row6 col1\" >0.85</td>\n",
       "                        <td id=\"T_e4ee1b7e_5580_11ed_a10f_7cb27d331107row6_col2\" class=\"data row6 col2\" >0.90</td>\n",
       "                        <td id=\"T_e4ee1b7e_5580_11ed_a10f_7cb27d331107row6_col3\" class=\"data row6 col3\" >0.86</td>\n",
       "                        <td id=\"T_e4ee1b7e_5580_11ed_a10f_7cb27d331107row6_col4\" class=\"data row6 col4\" >0.89</td>\n",
       "                        <td id=\"T_e4ee1b7e_5580_11ed_a10f_7cb27d331107row6_col5\" class=\"data row6 col5\" >-0.91</td>\n",
       "                        <td id=\"T_e4ee1b7e_5580_11ed_a10f_7cb27d331107row6_col6\" class=\"data row6 col6\" >1.00</td>\n",
       "            </tr>\n",
       "    </tbody></table>"
      ],
      "text/plain": [
       "<pandas.io.formats.style.Styler at 0x7f511b5fefd0>"
      ]
     },
     "metadata": {},
     "output_type": "display_data"
    }
   ],
   "source": [
    "# Plot de matriz de correlação (Pearson)\n",
    "corr = df.iloc[:, 1:].corr() \n",
    "display(corr.style.background_gradient(cmap='BuGn').set_precision(2))"
   ]
  },
  {
   "cell_type": "markdown",
   "metadata": {},
   "source": [
    "## Data Visualization\n",
    "\n",
    "Plot **Engine Size** vs the **Emission**, para ver o quão linear é o relacionamento entre eles.\n",
    "\n",
    "Vamos plotar os valores de emissão em relação ao tamanho do motor:\n"
   ]
  },
  {
   "cell_type": "code",
   "execution_count": 344,
   "metadata": {
    "button": false,
    "new_sheet": false,
    "run_control": {
     "read_only": false
    },
    "scrolled": true
   },
   "outputs": [
    {
     "data": {
      "image/png": "[encoded data removed]",
      "text/plain": [
       "<Figure size 432x288 with 1 Axes>"
      ]
     },
     "metadata": {
      "needs_background": "light"
     },
     "output_type": "display_data"
    }
   ],
   "source": [
    "plt.scatter(cdf.ENGINESIZE, cdf.CO2EMISSIONS,  color='blue')\n",
    "plt.xlabel(\"Engine size\")\n",
    "plt.ylabel(\"Emission\")\n",
    "plt.show()"
   ]
  },
  {
   "cell_type": "code",
   "execution_count": 345,
   "metadata": {},
   "outputs": [
    {
     "data": {
      "image/png": "[encoded data removed]",
      "text/plain": [
       "<Figure size 432x288 with 4 Axes>"
      ]
     },
     "metadata": {
      "needs_background": "light"
     },
     "output_type": "display_data"
    }
   ],
   "source": [
    "viz = cdf[['CYLINDERS','ENGINESIZE','CO2EMISSIONS','FUELCONSUMPTION_CITY']]\n",
    "viz.hist()\n",
    "plt.show()"
   ]
  },
  {
   "cell_type": "markdown",
   "metadata": {
    "button": false,
    "new_sheet": false,
    "run_control": {
     "read_only": false
    }
   },
   "source": [
    "#### Como criar um conjunto de dados de treinamento e teste\n",
    "\n",
    "A divisão de treinamento/teste envolve a divisão do conjunto de dados em conjuntos de treinamento e teste, respectivamente, que são mutuamente exclusivos. Depois disso, você treina com o conjunto de treinamento e testa com o conjunto de teste.\n",
    "<br><br>\n",
    "Isso fornecerá uma avaliação mais precisa da precisão fora da amostra porque o conjunto de dados de teste não faz parte do conjunto de dados que foi usado para treinar o modelo. Portanto, isso nos dá uma melhor compreensão de quão bem nosso modelo generaliza em novos dados. \n",
    "<br><br>\n",
    "Sabemos o resultado de cada ponto de dados no conjunto de dados de teste, tornando-o ótimo para testar! Como esses dados não foram usados para treinar o modelo, o modelo não tem conhecimento do resultado desses pontos de dados. Então, em essência, é realmente um teste fora da amostra.\n",
    "<br><br>\n",
    "Vamos dividir nosso conjunto de dados em conjuntos de treinamento e teste. Cerca de 80% de todo o conjunto de dados será usado para treinamento e 20% para teste. Criamos uma máscara para selecionar linhas aleatórias usando a função **np.random.rand()**:"
   ]
  },
  {
   "cell_type": "code",
   "execution_count": 346,
   "metadata": {
    "button": false,
    "new_sheet": false,
    "run_control": {
     "read_only": false
    }
   },
   "outputs": [],
   "source": [
    "msk = np.random.rand(len(df)) < 0.8\n",
    "train = cdf[msk]\n",
    "test = cdf[~msk]"
   ]
  },
  {
   "cell_type": "code",
   "execution_count": 347,
   "metadata": {},
   "outputs": [
    {
     "name": "stdout",
     "output_type": "stream",
     "text": [
      "Dataset de Treino =  (837, 6)\n",
      "Dataset de Test   =  (230, 6)\n"
     ]
    }
   ],
   "source": [
    "print('Dataset de Treino = ', train.shape)\n",
    "print('Dataset de Test   = ', test.shape)"
   ]
  },
  {
   "cell_type": "markdown",
   "metadata": {
    "button": false,
    "new_sheet": false,
    "run_control": {
     "read_only": false
    }
   },
   "source": [
    "#### Distribuição de dados de Treino\n"
   ]
  },
  {
   "cell_type": "code",
   "execution_count": 348,
   "metadata": {
    "button": false,
    "new_sheet": false,
    "run_control": {
     "read_only": false
    }
   },
   "outputs": [
    {
     "data": {
      "image/png": "[encoded data removed]",
      "text/plain": [
       "<Figure size 432x288 with 1 Axes>"
      ]
     },
     "metadata": {
      "needs_background": "light"
     },
     "output_type": "display_data"
    }
   ],
   "source": [
    "plt.scatter(train.ENGINESIZE, train.CO2EMISSIONS,  color='blue')\n",
    "plt.xlabel(\"Engine size\")\n",
    "plt.ylabel(\"Emission\")\n",
    "plt.show()"
   ]
  },
  {
   "cell_type": "markdown",
   "metadata": {
    "button": false,
    "new_sheet": false,
    "run_control": {
     "read_only": false
    }
   },
   "source": [
    "<h2 id=\"multiple_regression_model\">Modelo de Regressão Múltipla</h2>\n"
   ]
  },
  {
   "cell_type": "markdown",
   "metadata": {},
   "source": [
    "Na realidade, existem múltiplas variáveis que impactam a emissão de co2. Quando mais de uma variável independente está presente, o processo é chamado de regressão linear múltipla.\n",
    "<br><br>\n",
    "Um exemplo de regressão linear múltipla é prever a emissão de co2 usando as variáveis FUELCONSUMPTION_COMB, EngineSize e Cylinders dos carros.\n",
    "<br><br>\n",
    "O bom aqui é que o modelo de regressão linear múltipla é a extensão do modelo de regressão linear simples."
   ]
  },
  {
   "cell_type": "code",
   "execution_count": 349,
   "metadata": {
    "button": false,
    "new_sheet": false,
    "run_control": {
     "read_only": false
    }
   },
   "outputs": [
    {
     "name": "stdout",
     "output_type": "stream",
     "text": [
      "Coefficients:  [[9.6658035  8.72344314 9.62132268]]\n"
     ]
    }
   ],
   "source": [
    "from sklearn import linear_model\n",
    "\n",
    "regr = linear_model.LinearRegression()\n",
    "x = np.asanyarray(train[['ENGINESIZE','CYLINDERS','FUELCONSUMPTION_COMB']])\n",
    "y = np.asanyarray(train[['CO2EMISSIONS']])\n",
    "\n",
    "regr.fit (x, y)\n",
    "\n",
    "# The coefficients\n",
    "print ('Coefficients: ', regr.coef_)"
   ]
  },
  {
   "cell_type": "markdown",
   "metadata": {},
   "source": [
    "Conforme mencionado anteriormente, **Coeficiente** e **Intercepto** são os parâmetros da linha ajustada.\n",
    "<br><br>\n",
    "Dado que se trata de um modelo de regressão linear múltipla com 3 parâmetros e que os parâmetros são o intercepto e os coeficientes do hiperplano, sklearn pode estimá-los a partir de nossos dados. \n",
    "<br><br>\n",
    "O Scikit-learn usa o método simples dos Mínimos Quadrados Ordinários para resolver este problema.\n",
    "\n",
    "#### Ordinary Least Squares (OLS) - Mínimos Quadrados Ordinários\n",
    "\n",
    "OLS é um método para estimar os parâmetros desconhecidos em um modelo de regressão linear. O OLS escolhe os parâmetros de uma função linear de um conjunto de variáveis explicativas minimizando a soma dos quadrados das diferenças entre a variável dependente alvo e aquelas previstas pela função linear.\n",
    "<br><br>\n",
    "Em outras palavras, ele tenta minimizar a soma dos erros quadráticos (SSE) ou erro quadrático médio (MSE) entre a variável de destino (y) e nossa saída prevista ($\\hat{y}$) em todas as amostras no conjunto de dados.\n",
    "\n",
    "OLS pode encontrar os melhores parâmetros usando os seguintes métodos:\n",
    "\n",
    "*   Resolvendo os parâmetros do modelo analiticamente usando equações de forma fechada\n",
    "*   Usando otimização de Algorítimo (Gradient Descent, Stochastic Gradient Descent, Newton’s Method, etc.)\n"
   ]
  },
  {
   "cell_type": "markdown",
   "metadata": {},
   "source": [
    "<h2 id=\"predicao\">Predição</h2>\n"
   ]
  },
  {
   "cell_type": "code",
   "execution_count": 350,
   "metadata": {
    "button": false,
    "new_sheet": false,
    "run_control": {
     "read_only": false
    }
   },
   "outputs": [
    {
     "name": "stdout",
     "output_type": "stream",
     "text": [
      "Residual sum of squares: 651.30\n",
      "Variance score: 0.84\n"
     ]
    }
   ],
   "source": [
    "y_hat= regr.predict(test[['ENGINESIZE','CYLINDERS','FUELCONSUMPTION_COMB']])\n",
    "x = np.asanyarray(test[['ENGINESIZE','CYLINDERS','FUELCONSUMPTION_COMB']])\n",
    "\n",
    "y = np.asanyarray(test[['CO2EMISSIONS']])\n",
    "\n",
    "print(\"Residual sum of squares: %.2f\" % np.mean((y_hat - y) ** 2))\n",
    "\n",
    "# Explained variance score: 1 is perfect prediction\n",
    "print('Variance score: %.2f' % regr.score(x, y))"
   ]
  },
  {
   "cell_type": "markdown",
   "metadata": {},
   "source": [
    "**Explicação: Pontuação de regressão de variância:**\\\n",
    "Seja $\\hat{y}$ a saída-alvo estimada, y a saída-alvo correspondente (correta) e Var a variância (o quadrado do desvio padrão). Então a variância explicada é estimada da seguinte forma:\n",
    "\n",
    "$\\texttt{explainedVariance}(y, \\hat{y}) = 1 - \\frac{Var{ y - \\hat{y}}}{Var{y}}$\\\n",
    "A melhor pontuação possível é 1,0, os valores mais baixos são piores.\n"
   ]
  },
  {
   "cell_type": "markdown",
   "metadata": {},
   "source": [
    "<h2 id=\"practice\">Prática</h2>\n",
    "Tente usar uma regressão linear múltipla com o mesmo conjunto de dados, mas desta vez use FUELCONSUMPTION_CITY e FUELCONSUMPTION_HWY em vez de FUELCONSUMPTION_COMB.<br>\n",
    "\n",
    "**Isso resulta em melhor precisão?**\n"
   ]
  },
  {
   "cell_type": "code",
   "execution_count": 351,
   "metadata": {},
   "outputs": [],
   "source": [
    "msk = np.random.rand(len(df)) < 0.8\n",
    "train = cdf[msk]\n",
    "test = cdf[~msk]"
   ]
  },
  {
   "cell_type": "code",
   "execution_count": 352,
   "metadata": {},
   "outputs": [
    {
     "name": "stdout",
     "output_type": "stream",
     "text": [
      "Coefficients:  [[10.23578773  7.36837291  3.34023678  6.29693707]]\n"
     ]
    }
   ],
   "source": [
    "# write your code here\n",
    "# CENÁRIO FUEL CONSUMPTION CITY\n",
    "from sklearn import linear_model\n",
    "\n",
    "regr = linear_model.LinearRegression()\n",
    "x = np.asanyarray(train[['ENGINESIZE','CYLINDERS','FUELCONSUMPTION_HWY','FUELCONSUMPTION_CITY']])\n",
    "y = np.asanyarray(train[['CO2EMISSIONS']])\n",
    "\n",
    "regr.fit (x, y)\n",
    "\n",
    "# The coefficients\n",
    "print ('Coefficients: ', regr.coef_)"
   ]
  },
  {
   "cell_type": "code",
   "execution_count": 353,
   "metadata": {},
   "outputs": [
    {
     "name": "stdout",
     "output_type": "stream",
     "text": [
      "Residual sum of squares: 540.78\n",
      "Variance score: 0.86\n"
     ]
    }
   ],
   "source": [
    "y_hat= regr.predict(test[['ENGINESIZE','CYLINDERS','FUELCONSUMPTION_HWY','FUELCONSUMPTION_CITY']])\n",
    "x = np.asanyarray(test[['ENGINESIZE','CYLINDERS','FUELCONSUMPTION_HWY','FUELCONSUMPTION_CITY']])\n",
    "\n",
    "y = np.asanyarray(test[['CO2EMISSIONS']])\n",
    "\n",
    "print(\"Residual sum of squares: %.2f\" % np.mean((y_hat - y) ** 2))\n",
    "\n",
    "# Explained variance score: 1 is perfect prediction\n",
    "print('Variance score: %.2f' % regr.score(x, y))"
   ]
  },
  {
   "cell_type": "markdown",
   "metadata": {},
   "source": [
    "<h4>ISSO RESULTOU EM MAIOR PRECISÃO</h4>"
   ]
  },
  {
   "cell_type": "markdown",
   "metadata": {},
   "source": [
    "### Thank you"
   ]
  }
 ],
 "metadata": {
  "kernelspec": {
   "display_name": "Python 3.6.9 64-bit",
   "language": "python",
   "name": "python3"
  },
  "language_info": {
   "codemirror_mode": {
    "name": "ipython",
    "version": 3
   },
   "file_extension": ".py",
   "mimetype": "text/x-python",
   "name": "python",
   "nbconvert_exporter": "python",
   "pygments_lexer": "ipython3",
   "version": "3.6.9"
  },
  "vscode": {
   "interpreter": {
    "hash": "31f2aee4e71d21fbe5cf8b01ff0e069b9275f58929596ceb00d14d90e3e16cd6"
   }
  },
  "widgets": {
   "state": {},
   "version": "1.1.2"
  }
 },
 "nbformat": 4,
 "nbformat_minor": 2
}
