{
 "cells": [
  {
   "cell_type": "markdown",
   "metadata": {
    "button": false,
    "new_sheet": false,
    "run_control": {
     "read_only": false
    }
   },
   "source": [
    "\n",
    "# Regressão Linear Simples\n",
    "\n",
    "\n",
    "\n",
    "## Objetivos\n",
    "\n",
    "Após completar esta atividade você estará habilitado para:\n",
    "\n",
    "*   Usar a biblioteca scikit-learn para implementar uma Regressão Linear Simples\n",
    "*   Criar, Treinar e Testar um Modelo\n"
   ]
  },
  {
   "cell_type": "markdown",
   "metadata": {},
   "source": [
    "---\n",
    "**Você sabia?** <br>\n",
    "\n",
    "Quando se trata de Machine Learning, você provavelmente estará trabalhando com grandes conjuntos de dados. <br>\n",
    "Onde você pode hospedar os seus dados. **pense Nisso.*** <br> \n",
    "\n",
    "---"
   ]
  },
  {
   "cell_type": "markdown",
   "metadata": {
    "button": false,
    "new_sheet": false,
    "run_control": {
     "read_only": false
    }
   },
   "source": [
    "### Importando os Pacotes necessários\n"
   ]
  },
  {
   "cell_type": "code",
   "execution_count": 114,
   "metadata": {
    "button": false,
    "new_sheet": false,
    "run_control": {
     "read_only": false
    }
   },
   "outputs": [],
   "source": [
    "import matplotlib.pyplot as plt\n",
    "import seaborn as sns\n",
    "import pandas as pd\n",
    "import pylab as pl\n",
    "import numpy as np\n",
    "import warnings\n",
    "import os\n",
    "\n",
    "%matplotlib inline\n",
    "warnings.filterwarnings('ignore')"
   ]
  },
  {
   "cell_type": "markdown",
   "metadata": {
    "button": false,
    "new_sheet": false,
    "run_control": {
     "read_only": false
    }
   },
   "source": [
    "## Entendendo os Dados\n",
    "\n",
    "### `FuelConsumption.csv`:\n",
    "\n",
    "Fizemos o download de um conjunto de dados de consumo de combustível, **FuelConsumption.csv**, que contém classificações de consumo de combustível específicas do modelo e emissões estimadas de dióxido de carbono para novos veículos leves para venda no varejo no Canadá. [Dataset source](http://open.canada.ca/data/en/dataset/98f1a129-f628-4ce4-b24d-6f16bf24dd64?utm_medium=Exinfluencer&utm_source=Exinfluencer&utm_content=000026UJ&utm_term=10006555&utm_id=NA-SkillsNetwork-Channel-SkillsNetworkCoursesIBMDeveloperSkillsNetworkML0101ENSkillsNetwork20718538-2022-01-01)\n",
    "\n",
    "*   **MODELYEAR** e.g. 2014\n",
    "*   **MAKE** e.g. Acura\n",
    "*   **MODEL** e.g. ILX\n",
    "*   **VEHICLE CLASS** e.g. SUV\n",
    "*   **ENGINE SIZE** e.g. 4.7\n",
    "*   **CYLINDERS** e.g 6\n",
    "*   **TRANSMISSION** e.g. A6\n",
    "*   **FUEL CONSUMPTION in CITY(L/100 km)** e.g. 9.9\n",
    "*   **FUEL CONSUMPTION in HWY (L/100 km)** e.g. 8.9\n",
    "*   **FUEL CONSUMPTION COMB (L/100 km)** e.g. 9.2\n",
    "*   **CO2 EMISSIONS (g/km)** e.g. 182   --> low --> 0\n"
   ]
  },
  {
   "cell_type": "markdown",
   "metadata": {
    "button": false,
    "new_sheet": false,
    "run_control": {
     "read_only": false
    }
   },
   "source": [
    "## Lendo os dados\n"
   ]
  },
  {
   "cell_type": "code",
   "execution_count": 115,
   "metadata": {},
   "outputs": [
    {
     "data": {
      "text/plain": [
       "['AURA0168_AULA09-Simple-Linear-Regression.ipynb',\n",
       " 'AURA0168_AULA09-Mulitple-Linear-Regression_v1.ipynb',\n",
       " 'FuelConsumptionCo2.csv']"
      ]
     },
     "execution_count": 115,
     "metadata": {},
     "output_type": "execute_result"
    }
   ],
   "source": [
    "# Path do dataset na máquina\n",
    "path = r'./'\n",
    "os.chdir(path)\n",
    "os.listdir()"
   ]
  },
  {
   "cell_type": "code",
   "execution_count": 116,
   "metadata": {
    "button": false,
    "new_sheet": false,
    "run_control": {
     "read_only": false
    }
   },
   "outputs": [],
   "source": [
    "# Carregando o Dataset\n",
    "df = pd.read_csv(\"FuelConsumptionCo2.csv\")"
   ]
  },
  {
   "cell_type": "code",
   "execution_count": 117,
   "metadata": {},
   "outputs": [
    {
     "data": {
      "text/html": [
       "<div>\n",
       "<style scoped>\n",
       "    .dataframe tbody tr th:only-of-type {\n",
       "        vertical-align: middle;\n",
       "    }\n",
       "\n",
       "    .dataframe tbody tr th {\n",
       "        vertical-align: top;\n",
       "    }\n",
       "\n",
       "    .dataframe thead th {\n",
       "        text-align: right;\n",
       "    }\n",
       "</style>\n",
       "<table border=\"1\" class=\"dataframe\">\n",
       "  <thead>\n",
       "    <tr style=\"text-align: right;\">\n",
       "      <th></th>\n",
       "      <th>MODELYEAR</th>\n",
       "      <th>MAKE</th>\n",
       "      <th>MODEL</th>\n",
       "      <th>VEHICLECLASS</th>\n",
       "      <th>ENGINESIZE</th>\n",
       "      <th>CYLINDERS</th>\n",
       "      <th>TRANSMISSION</th>\n",
       "      <th>FUELTYPE</th>\n",
       "      <th>FUELCONSUMPTION_CITY</th>\n",
       "      <th>FUELCONSUMPTION_HWY</th>\n",
       "      <th>FUELCONSUMPTION_COMB</th>\n",
       "      <th>FUELCONSUMPTION_COMB_MPG</th>\n",
       "      <th>CO2EMISSIONS</th>\n",
       "    </tr>\n",
       "  </thead>\n",
       "  <tbody>\n",
       "    <tr>\n",
       "      <th>0</th>\n",
       "      <td>2014</td>\n",
       "      <td>ACURA</td>\n",
       "      <td>ILX</td>\n",
       "      <td>COMPACT</td>\n",
       "      <td>2.0</td>\n",
       "      <td>4</td>\n",
       "      <td>AS5</td>\n",
       "      <td>Z</td>\n",
       "      <td>9.9</td>\n",
       "      <td>6.7</td>\n",
       "      <td>8.5</td>\n",
       "      <td>33</td>\n",
       "      <td>196</td>\n",
       "    </tr>\n",
       "    <tr>\n",
       "      <th>1</th>\n",
       "      <td>2014</td>\n",
       "      <td>ACURA</td>\n",
       "      <td>ILX</td>\n",
       "      <td>COMPACT</td>\n",
       "      <td>2.4</td>\n",
       "      <td>4</td>\n",
       "      <td>M6</td>\n",
       "      <td>Z</td>\n",
       "      <td>11.2</td>\n",
       "      <td>7.7</td>\n",
       "      <td>9.6</td>\n",
       "      <td>29</td>\n",
       "      <td>221</td>\n",
       "    </tr>\n",
       "    <tr>\n",
       "      <th>2</th>\n",
       "      <td>2014</td>\n",
       "      <td>ACURA</td>\n",
       "      <td>ILX HYBRID</td>\n",
       "      <td>COMPACT</td>\n",
       "      <td>1.5</td>\n",
       "      <td>4</td>\n",
       "      <td>AV7</td>\n",
       "      <td>Z</td>\n",
       "      <td>6.0</td>\n",
       "      <td>5.8</td>\n",
       "      <td>5.9</td>\n",
       "      <td>48</td>\n",
       "      <td>136</td>\n",
       "    </tr>\n",
       "    <tr>\n",
       "      <th>3</th>\n",
       "      <td>2014</td>\n",
       "      <td>ACURA</td>\n",
       "      <td>MDX 4WD</td>\n",
       "      <td>SUV - SMALL</td>\n",
       "      <td>3.5</td>\n",
       "      <td>6</td>\n",
       "      <td>AS6</td>\n",
       "      <td>Z</td>\n",
       "      <td>12.7</td>\n",
       "      <td>9.1</td>\n",
       "      <td>11.1</td>\n",
       "      <td>25</td>\n",
       "      <td>255</td>\n",
       "    </tr>\n",
       "    <tr>\n",
       "      <th>4</th>\n",
       "      <td>2014</td>\n",
       "      <td>ACURA</td>\n",
       "      <td>RDX AWD</td>\n",
       "      <td>SUV - SMALL</td>\n",
       "      <td>3.5</td>\n",
       "      <td>6</td>\n",
       "      <td>AS6</td>\n",
       "      <td>Z</td>\n",
       "      <td>12.1</td>\n",
       "      <td>8.7</td>\n",
       "      <td>10.6</td>\n",
       "      <td>27</td>\n",
       "      <td>244</td>\n",
       "    </tr>\n",
       "  </tbody>\n",
       "</table>\n",
       "</div>"
      ],
      "text/plain": [
       "   MODELYEAR   MAKE       MODEL VEHICLECLASS  ENGINESIZE  CYLINDERS  \\\n",
       "0       2014  ACURA         ILX      COMPACT         2.0          4   \n",
       "1       2014  ACURA         ILX      COMPACT         2.4          4   \n",
       "2       2014  ACURA  ILX HYBRID      COMPACT         1.5          4   \n",
       "3       2014  ACURA     MDX 4WD  SUV - SMALL         3.5          6   \n",
       "4       2014  ACURA     RDX AWD  SUV - SMALL         3.5          6   \n",
       "\n",
       "  TRANSMISSION FUELTYPE  FUELCONSUMPTION_CITY  FUELCONSUMPTION_HWY  \\\n",
       "0          AS5        Z                   9.9                  6.7   \n",
       "1           M6        Z                  11.2                  7.7   \n",
       "2          AV7        Z                   6.0                  5.8   \n",
       "3          AS6        Z                  12.7                  9.1   \n",
       "4          AS6        Z                  12.1                  8.7   \n",
       "\n",
       "   FUELCONSUMPTION_COMB  FUELCONSUMPTION_COMB_MPG  CO2EMISSIONS  \n",
       "0                   8.5                        33           196  \n",
       "1                   9.6                        29           221  \n",
       "2                   5.9                        48           136  \n",
       "3                  11.1                        25           255  \n",
       "4                  10.6                        27           244  "
      ]
     },
     "execution_count": 117,
     "metadata": {},
     "output_type": "execute_result"
    }
   ],
   "source": [
    "# Visualizando os dados do Dataset\n",
    "df.head()"
   ]
  },
  {
   "cell_type": "code",
   "execution_count": 118,
   "metadata": {},
   "outputs": [
    {
     "data": {
      "text/plain": [
       "MODELYEAR                     int64\n",
       "MAKE                         object\n",
       "MODEL                        object\n",
       "VEHICLECLASS                 object\n",
       "ENGINESIZE                  float64\n",
       "CYLINDERS                     int64\n",
       "TRANSMISSION                 object\n",
       "FUELTYPE                     object\n",
       "FUELCONSUMPTION_CITY        float64\n",
       "FUELCONSUMPTION_HWY         float64\n",
       "FUELCONSUMPTION_COMB        float64\n",
       "FUELCONSUMPTION_COMB_MPG      int64\n",
       "CO2EMISSIONS                  int64\n",
       "dtype: object"
      ]
     },
     "execution_count": 118,
     "metadata": {},
     "output_type": "execute_result"
    }
   ],
   "source": [
    "df.dtypes"
   ]
  },
  {
   "cell_type": "markdown",
   "metadata": {
    "button": false,
    "new_sheet": false,
    "run_control": {
     "read_only": false
    }
   },
   "source": [
    "### Data Exploration\n",
    "\n",
    "Vamos primeiro fazer uma exploração descritiva em nossos dados."
   ]
  },
  {
   "cell_type": "code",
   "execution_count": 119,
   "metadata": {
    "button": false,
    "new_sheet": false,
    "run_control": {
     "read_only": false
    }
   },
   "outputs": [
    {
     "data": {
      "text/html": [
       "<div>\n",
       "<style scoped>\n",
       "    .dataframe tbody tr th:only-of-type {\n",
       "        vertical-align: middle;\n",
       "    }\n",
       "\n",
       "    .dataframe tbody tr th {\n",
       "        vertical-align: top;\n",
       "    }\n",
       "\n",
       "    .dataframe thead th {\n",
       "        text-align: right;\n",
       "    }\n",
       "</style>\n",
       "<table border=\"1\" class=\"dataframe\">\n",
       "  <thead>\n",
       "    <tr style=\"text-align: right;\">\n",
       "      <th></th>\n",
       "      <th>MODELYEAR</th>\n",
       "      <th>ENGINESIZE</th>\n",
       "      <th>CYLINDERS</th>\n",
       "      <th>FUELCONSUMPTION_CITY</th>\n",
       "      <th>FUELCONSUMPTION_HWY</th>\n",
       "      <th>FUELCONSUMPTION_COMB</th>\n",
       "      <th>FUELCONSUMPTION_COMB_MPG</th>\n",
       "      <th>CO2EMISSIONS</th>\n",
       "    </tr>\n",
       "  </thead>\n",
       "  <tbody>\n",
       "    <tr>\n",
       "      <th>count</th>\n",
       "      <td>1067.0</td>\n",
       "      <td>1067.000000</td>\n",
       "      <td>1067.000000</td>\n",
       "      <td>1067.000000</td>\n",
       "      <td>1067.000000</td>\n",
       "      <td>1067.000000</td>\n",
       "      <td>1067.000000</td>\n",
       "      <td>1067.000000</td>\n",
       "    </tr>\n",
       "    <tr>\n",
       "      <th>mean</th>\n",
       "      <td>2014.0</td>\n",
       "      <td>3.346298</td>\n",
       "      <td>5.794752</td>\n",
       "      <td>13.296532</td>\n",
       "      <td>9.474602</td>\n",
       "      <td>11.580881</td>\n",
       "      <td>26.441425</td>\n",
       "      <td>256.228679</td>\n",
       "    </tr>\n",
       "    <tr>\n",
       "      <th>std</th>\n",
       "      <td>0.0</td>\n",
       "      <td>1.415895</td>\n",
       "      <td>1.797447</td>\n",
       "      <td>4.101253</td>\n",
       "      <td>2.794510</td>\n",
       "      <td>3.485595</td>\n",
       "      <td>7.468702</td>\n",
       "      <td>63.372304</td>\n",
       "    </tr>\n",
       "    <tr>\n",
       "      <th>min</th>\n",
       "      <td>2014.0</td>\n",
       "      <td>1.000000</td>\n",
       "      <td>3.000000</td>\n",
       "      <td>4.600000</td>\n",
       "      <td>4.900000</td>\n",
       "      <td>4.700000</td>\n",
       "      <td>11.000000</td>\n",
       "      <td>108.000000</td>\n",
       "    </tr>\n",
       "    <tr>\n",
       "      <th>25%</th>\n",
       "      <td>2014.0</td>\n",
       "      <td>2.000000</td>\n",
       "      <td>4.000000</td>\n",
       "      <td>10.250000</td>\n",
       "      <td>7.500000</td>\n",
       "      <td>9.000000</td>\n",
       "      <td>21.000000</td>\n",
       "      <td>207.000000</td>\n",
       "    </tr>\n",
       "    <tr>\n",
       "      <th>50%</th>\n",
       "      <td>2014.0</td>\n",
       "      <td>3.400000</td>\n",
       "      <td>6.000000</td>\n",
       "      <td>12.600000</td>\n",
       "      <td>8.800000</td>\n",
       "      <td>10.900000</td>\n",
       "      <td>26.000000</td>\n",
       "      <td>251.000000</td>\n",
       "    </tr>\n",
       "    <tr>\n",
       "      <th>75%</th>\n",
       "      <td>2014.0</td>\n",
       "      <td>4.300000</td>\n",
       "      <td>8.000000</td>\n",
       "      <td>15.550000</td>\n",
       "      <td>10.850000</td>\n",
       "      <td>13.350000</td>\n",
       "      <td>31.000000</td>\n",
       "      <td>294.000000</td>\n",
       "    </tr>\n",
       "    <tr>\n",
       "      <th>max</th>\n",
       "      <td>2014.0</td>\n",
       "      <td>8.400000</td>\n",
       "      <td>12.000000</td>\n",
       "      <td>30.200000</td>\n",
       "      <td>20.500000</td>\n",
       "      <td>25.800000</td>\n",
       "      <td>60.000000</td>\n",
       "      <td>488.000000</td>\n",
       "    </tr>\n",
       "  </tbody>\n",
       "</table>\n",
       "</div>"
      ],
      "text/plain": [
       "       MODELYEAR   ENGINESIZE    CYLINDERS  FUELCONSUMPTION_CITY  \\\n",
       "count     1067.0  1067.000000  1067.000000           1067.000000   \n",
       "mean      2014.0     3.346298     5.794752             13.296532   \n",
       "std          0.0     1.415895     1.797447              4.101253   \n",
       "min       2014.0     1.000000     3.000000              4.600000   \n",
       "25%       2014.0     2.000000     4.000000             10.250000   \n",
       "50%       2014.0     3.400000     6.000000             12.600000   \n",
       "75%       2014.0     4.300000     8.000000             15.550000   \n",
       "max       2014.0     8.400000    12.000000             30.200000   \n",
       "\n",
       "       FUELCONSUMPTION_HWY  FUELCONSUMPTION_COMB  FUELCONSUMPTION_COMB_MPG  \\\n",
       "count          1067.000000           1067.000000               1067.000000   \n",
       "mean              9.474602             11.580881                 26.441425   \n",
       "std               2.794510              3.485595                  7.468702   \n",
       "min               4.900000              4.700000                 11.000000   \n",
       "25%               7.500000              9.000000                 21.000000   \n",
       "50%               8.800000             10.900000                 26.000000   \n",
       "75%              10.850000             13.350000                 31.000000   \n",
       "max              20.500000             25.800000                 60.000000   \n",
       "\n",
       "       CO2EMISSIONS  \n",
       "count   1067.000000  \n",
       "mean     256.228679  \n",
       "std       63.372304  \n",
       "min      108.000000  \n",
       "25%      207.000000  \n",
       "50%      251.000000  \n",
       "75%      294.000000  \n",
       "max      488.000000  "
      ]
     },
     "execution_count": 119,
     "metadata": {},
     "output_type": "execute_result"
    }
   ],
   "source": [
    "# Sumarizar os dados\n",
    "df.describe()"
   ]
  },
  {
   "cell_type": "markdown",
   "metadata": {},
   "source": [
    "### Pearson Correlation\n",
    "\n",
    "Checando a correlação entre as variáveis."
   ]
  },
  {
   "cell_type": "code",
   "execution_count": 120,
   "metadata": {},
   "outputs": [],
   "source": [
    "# Alterar Nomes das Colunas\n",
    "df.rename(columns={'FUELCONSUMPTION_CITY': 'FUELCONSCITY',\n",
    "                   'FUELCONSUMPTION_HWY': 'FUELCONSHWY',\n",
    "                   'FUELCONSUMPTION_COMB': 'FUELCONSCOMB', \n",
    "                   'FUELCONSUMPTION_COMB_MPG': 'FUELCONSCOMBMPG'}, inplace=True)"
   ]
  },
  {
   "cell_type": "code",
   "execution_count": 121,
   "metadata": {},
   "outputs": [
    {
     "data": {
      "text/html": [
       "<style  type=\"text/css\" >\n",
       "#T_ad6ab734_5580_11ed_a10f_7cb27d331107row0_col0,#T_ad6ab734_5580_11ed_a10f_7cb27d331107row1_col1,#T_ad6ab734_5580_11ed_a10f_7cb27d331107row2_col2,#T_ad6ab734_5580_11ed_a10f_7cb27d331107row2_col4,#T_ad6ab734_5580_11ed_a10f_7cb27d331107row3_col3,#T_ad6ab734_5580_11ed_a10f_7cb27d331107row4_col2,#T_ad6ab734_5580_11ed_a10f_7cb27d331107row4_col4,#T_ad6ab734_5580_11ed_a10f_7cb27d331107row5_col5,#T_ad6ab734_5580_11ed_a10f_7cb27d331107row6_col6{\n",
       "            background-color:  #00441b;\n",
       "            color:  #f1f1f1;\n",
       "        }#T_ad6ab734_5580_11ed_a10f_7cb27d331107row0_col1,#T_ad6ab734_5580_11ed_a10f_7cb27d331107row1_col0{\n",
       "            background-color:  #005020;\n",
       "            color:  #f1f1f1;\n",
       "        }#T_ad6ab734_5580_11ed_a10f_7cb27d331107row0_col2{\n",
       "            background-color:  #006027;\n",
       "            color:  #f1f1f1;\n",
       "        }#T_ad6ab734_5580_11ed_a10f_7cb27d331107row0_col3,#T_ad6ab734_5580_11ed_a10f_7cb27d331107row1_col4,#T_ad6ab734_5580_11ed_a10f_7cb27d331107row2_col1{\n",
       "            background-color:  #00692a;\n",
       "            color:  #f1f1f1;\n",
       "        }#T_ad6ab734_5580_11ed_a10f_7cb27d331107row0_col4,#T_ad6ab734_5580_11ed_a10f_7cb27d331107row2_col0{\n",
       "            background-color:  #006227;\n",
       "            color:  #f1f1f1;\n",
       "        }#T_ad6ab734_5580_11ed_a10f_7cb27d331107row0_col5{\n",
       "            background-color:  #eef8fb;\n",
       "            color:  #000000;\n",
       "        }#T_ad6ab734_5580_11ed_a10f_7cb27d331107row0_col6{\n",
       "            background-color:  #005924;\n",
       "            color:  #f1f1f1;\n",
       "        }#T_ad6ab734_5580_11ed_a10f_7cb27d331107row1_col2{\n",
       "            background-color:  #006529;\n",
       "            color:  #f1f1f1;\n",
       "        }#T_ad6ab734_5580_11ed_a10f_7cb27d331107row1_col3{\n",
       "            background-color:  #067230;\n",
       "            color:  #f1f1f1;\n",
       "        }#T_ad6ab734_5580_11ed_a10f_7cb27d331107row1_col5{\n",
       "            background-color:  #ebf7fa;\n",
       "            color:  #000000;\n",
       "        }#T_ad6ab734_5580_11ed_a10f_7cb27d331107row1_col6{\n",
       "            background-color:  #005e26;\n",
       "            color:  #f1f1f1;\n",
       "        }#T_ad6ab734_5580_11ed_a10f_7cb27d331107row2_col3,#T_ad6ab734_5580_11ed_a10f_7cb27d331107row3_col2{\n",
       "            background-color:  #00491d;\n",
       "            color:  #f1f1f1;\n",
       "        }#T_ad6ab734_5580_11ed_a10f_7cb27d331107row2_col5,#T_ad6ab734_5580_11ed_a10f_7cb27d331107row5_col0,#T_ad6ab734_5580_11ed_a10f_7cb27d331107row5_col1,#T_ad6ab734_5580_11ed_a10f_7cb27d331107row5_col2,#T_ad6ab734_5580_11ed_a10f_7cb27d331107row5_col3,#T_ad6ab734_5580_11ed_a10f_7cb27d331107row5_col4,#T_ad6ab734_5580_11ed_a10f_7cb27d331107row5_col6{\n",
       "            background-color:  #f7fcfd;\n",
       "            color:  #000000;\n",
       "        }#T_ad6ab734_5580_11ed_a10f_7cb27d331107row2_col6,#T_ad6ab734_5580_11ed_a10f_7cb27d331107row6_col2{\n",
       "            background-color:  #005522;\n",
       "            color:  #f1f1f1;\n",
       "        }#T_ad6ab734_5580_11ed_a10f_7cb27d331107row3_col0{\n",
       "            background-color:  #006c2c;\n",
       "            color:  #f1f1f1;\n",
       "        }#T_ad6ab734_5580_11ed_a10f_7cb27d331107row3_col1{\n",
       "            background-color:  #087432;\n",
       "            color:  #f1f1f1;\n",
       "        }#T_ad6ab734_5580_11ed_a10f_7cb27d331107row3_col4,#T_ad6ab734_5580_11ed_a10f_7cb27d331107row4_col3{\n",
       "            background-color:  #00451c;\n",
       "            color:  #f1f1f1;\n",
       "        }#T_ad6ab734_5580_11ed_a10f_7cb27d331107row3_col5{\n",
       "            background-color:  #f4fbfc;\n",
       "            color:  #000000;\n",
       "        }#T_ad6ab734_5580_11ed_a10f_7cb27d331107row3_col6,#T_ad6ab734_5580_11ed_a10f_7cb27d331107row6_col3{\n",
       "            background-color:  #005b25;\n",
       "            color:  #f1f1f1;\n",
       "        }#T_ad6ab734_5580_11ed_a10f_7cb27d331107row4_col0{\n",
       "            background-color:  #006428;\n",
       "            color:  #f1f1f1;\n",
       "        }#T_ad6ab734_5580_11ed_a10f_7cb27d331107row4_col1{\n",
       "            background-color:  #006d2c;\n",
       "            color:  #f1f1f1;\n",
       "        }#T_ad6ab734_5580_11ed_a10f_7cb27d331107row4_col5{\n",
       "            background-color:  #f6fcfd;\n",
       "            color:  #000000;\n",
       "        }#T_ad6ab734_5580_11ed_a10f_7cb27d331107row4_col6,#T_ad6ab734_5580_11ed_a10f_7cb27d331107row6_col4{\n",
       "            background-color:  #005622;\n",
       "            color:  #f1f1f1;\n",
       "        }#T_ad6ab734_5580_11ed_a10f_7cb27d331107row6_col0{\n",
       "            background-color:  #005a24;\n",
       "            color:  #f1f1f1;\n",
       "        }#T_ad6ab734_5580_11ed_a10f_7cb27d331107row6_col1{\n",
       "            background-color:  #005f26;\n",
       "            color:  #f1f1f1;\n",
       "        }#T_ad6ab734_5580_11ed_a10f_7cb27d331107row6_col5{\n",
       "            background-color:  #f5fbfd;\n",
       "            color:  #000000;\n",
       "        }</style><table id=\"T_ad6ab734_5580_11ed_a10f_7cb27d331107\" ><thead>    <tr>        <th class=\"blank level0\" ></th>        <th class=\"col_heading level0 col0\" >ENGINESIZE</th>        <th class=\"col_heading level0 col1\" >CYLINDERS</th>        <th class=\"col_heading level0 col2\" >FUELCONSCITY</th>        <th class=\"col_heading level0 col3\" >FUELCONSHWY</th>        <th class=\"col_heading level0 col4\" >FUELCONSCOMB</th>        <th class=\"col_heading level0 col5\" >FUELCONSCOMBMPG</th>        <th class=\"col_heading level0 col6\" >CO2EMISSIONS</th>    </tr></thead><tbody>\n",
       "                <tr>\n",
       "                        <th id=\"T_ad6ab734_5580_11ed_a10f_7cb27d331107level0_row0\" class=\"row_heading level0 row0\" >ENGINESIZE</th>\n",
       "                        <td id=\"T_ad6ab734_5580_11ed_a10f_7cb27d331107row0_col0\" class=\"data row0 col0\" >1.00</td>\n",
       "                        <td id=\"T_ad6ab734_5580_11ed_a10f_7cb27d331107row0_col1\" class=\"data row0 col1\" >0.93</td>\n",
       "                        <td id=\"T_ad6ab734_5580_11ed_a10f_7cb27d331107row0_col2\" class=\"data row0 col2\" >0.83</td>\n",
       "                        <td id=\"T_ad6ab734_5580_11ed_a10f_7cb27d331107row0_col3\" class=\"data row0 col3\" >0.78</td>\n",
       "                        <td id=\"T_ad6ab734_5580_11ed_a10f_7cb27d331107row0_col4\" class=\"data row0 col4\" >0.82</td>\n",
       "                        <td id=\"T_ad6ab734_5580_11ed_a10f_7cb27d331107row0_col5\" class=\"data row0 col5\" >-0.81</td>\n",
       "                        <td id=\"T_ad6ab734_5580_11ed_a10f_7cb27d331107row0_col6\" class=\"data row0 col6\" >0.87</td>\n",
       "            </tr>\n",
       "            <tr>\n",
       "                        <th id=\"T_ad6ab734_5580_11ed_a10f_7cb27d331107level0_row1\" class=\"row_heading level0 row1\" >CYLINDERS</th>\n",
       "                        <td id=\"T_ad6ab734_5580_11ed_a10f_7cb27d331107row1_col0\" class=\"data row1 col0\" >0.93</td>\n",
       "                        <td id=\"T_ad6ab734_5580_11ed_a10f_7cb27d331107row1_col1\" class=\"data row1 col1\" >1.00</td>\n",
       "                        <td id=\"T_ad6ab734_5580_11ed_a10f_7cb27d331107row1_col2\" class=\"data row1 col2\" >0.80</td>\n",
       "                        <td id=\"T_ad6ab734_5580_11ed_a10f_7cb27d331107row1_col3\" class=\"data row1 col3\" >0.72</td>\n",
       "                        <td id=\"T_ad6ab734_5580_11ed_a10f_7cb27d331107row1_col4\" class=\"data row1 col4\" >0.78</td>\n",
       "                        <td id=\"T_ad6ab734_5580_11ed_a10f_7cb27d331107row1_col5\" class=\"data row1 col5\" >-0.77</td>\n",
       "                        <td id=\"T_ad6ab734_5580_11ed_a10f_7cb27d331107row1_col6\" class=\"data row1 col6\" >0.85</td>\n",
       "            </tr>\n",
       "            <tr>\n",
       "                        <th id=\"T_ad6ab734_5580_11ed_a10f_7cb27d331107level0_row2\" class=\"row_heading level0 row2\" >FUELCONSCITY</th>\n",
       "                        <td id=\"T_ad6ab734_5580_11ed_a10f_7cb27d331107row2_col0\" class=\"data row2 col0\" >0.83</td>\n",
       "                        <td id=\"T_ad6ab734_5580_11ed_a10f_7cb27d331107row2_col1\" class=\"data row2 col1\" >0.80</td>\n",
       "                        <td id=\"T_ad6ab734_5580_11ed_a10f_7cb27d331107row2_col2\" class=\"data row2 col2\" >1.00</td>\n",
       "                        <td id=\"T_ad6ab734_5580_11ed_a10f_7cb27d331107row2_col3\" class=\"data row2 col3\" >0.97</td>\n",
       "                        <td id=\"T_ad6ab734_5580_11ed_a10f_7cb27d331107row2_col4\" class=\"data row2 col4\" >1.00</td>\n",
       "                        <td id=\"T_ad6ab734_5580_11ed_a10f_7cb27d331107row2_col5\" class=\"data row2 col5\" >-0.94</td>\n",
       "                        <td id=\"T_ad6ab734_5580_11ed_a10f_7cb27d331107row2_col6\" class=\"data row2 col6\" >0.90</td>\n",
       "            </tr>\n",
       "            <tr>\n",
       "                        <th id=\"T_ad6ab734_5580_11ed_a10f_7cb27d331107level0_row3\" class=\"row_heading level0 row3\" >FUELCONSHWY</th>\n",
       "                        <td id=\"T_ad6ab734_5580_11ed_a10f_7cb27d331107row3_col0\" class=\"data row3 col0\" >0.78</td>\n",
       "                        <td id=\"T_ad6ab734_5580_11ed_a10f_7cb27d331107row3_col1\" class=\"data row3 col1\" >0.72</td>\n",
       "                        <td id=\"T_ad6ab734_5580_11ed_a10f_7cb27d331107row3_col2\" class=\"data row3 col2\" >0.97</td>\n",
       "                        <td id=\"T_ad6ab734_5580_11ed_a10f_7cb27d331107row3_col3\" class=\"data row3 col3\" >1.00</td>\n",
       "                        <td id=\"T_ad6ab734_5580_11ed_a10f_7cb27d331107row3_col4\" class=\"data row3 col4\" >0.99</td>\n",
       "                        <td id=\"T_ad6ab734_5580_11ed_a10f_7cb27d331107row3_col5\" class=\"data row3 col5\" >-0.89</td>\n",
       "                        <td id=\"T_ad6ab734_5580_11ed_a10f_7cb27d331107row3_col6\" class=\"data row3 col6\" >0.86</td>\n",
       "            </tr>\n",
       "            <tr>\n",
       "                        <th id=\"T_ad6ab734_5580_11ed_a10f_7cb27d331107level0_row4\" class=\"row_heading level0 row4\" >FUELCONSCOMB</th>\n",
       "                        <td id=\"T_ad6ab734_5580_11ed_a10f_7cb27d331107row4_col0\" class=\"data row4 col0\" >0.82</td>\n",
       "                        <td id=\"T_ad6ab734_5580_11ed_a10f_7cb27d331107row4_col1\" class=\"data row4 col1\" >0.78</td>\n",
       "                        <td id=\"T_ad6ab734_5580_11ed_a10f_7cb27d331107row4_col2\" class=\"data row4 col2\" >1.00</td>\n",
       "                        <td id=\"T_ad6ab734_5580_11ed_a10f_7cb27d331107row4_col3\" class=\"data row4 col3\" >0.99</td>\n",
       "                        <td id=\"T_ad6ab734_5580_11ed_a10f_7cb27d331107row4_col4\" class=\"data row4 col4\" >1.00</td>\n",
       "                        <td id=\"T_ad6ab734_5580_11ed_a10f_7cb27d331107row4_col5\" class=\"data row4 col5\" >-0.93</td>\n",
       "                        <td id=\"T_ad6ab734_5580_11ed_a10f_7cb27d331107row4_col6\" class=\"data row4 col6\" >0.89</td>\n",
       "            </tr>\n",
       "            <tr>\n",
       "                        <th id=\"T_ad6ab734_5580_11ed_a10f_7cb27d331107level0_row5\" class=\"row_heading level0 row5\" >FUELCONSCOMBMPG</th>\n",
       "                        <td id=\"T_ad6ab734_5580_11ed_a10f_7cb27d331107row5_col0\" class=\"data row5 col0\" >-0.81</td>\n",
       "                        <td id=\"T_ad6ab734_5580_11ed_a10f_7cb27d331107row5_col1\" class=\"data row5 col1\" >-0.77</td>\n",
       "                        <td id=\"T_ad6ab734_5580_11ed_a10f_7cb27d331107row5_col2\" class=\"data row5 col2\" >-0.94</td>\n",
       "                        <td id=\"T_ad6ab734_5580_11ed_a10f_7cb27d331107row5_col3\" class=\"data row5 col3\" >-0.89</td>\n",
       "                        <td id=\"T_ad6ab734_5580_11ed_a10f_7cb27d331107row5_col4\" class=\"data row5 col4\" >-0.93</td>\n",
       "                        <td id=\"T_ad6ab734_5580_11ed_a10f_7cb27d331107row5_col5\" class=\"data row5 col5\" >1.00</td>\n",
       "                        <td id=\"T_ad6ab734_5580_11ed_a10f_7cb27d331107row5_col6\" class=\"data row5 col6\" >-0.91</td>\n",
       "            </tr>\n",
       "            <tr>\n",
       "                        <th id=\"T_ad6ab734_5580_11ed_a10f_7cb27d331107level0_row6\" class=\"row_heading level0 row6\" >CO2EMISSIONS</th>\n",
       "                        <td id=\"T_ad6ab734_5580_11ed_a10f_7cb27d331107row6_col0\" class=\"data row6 col0\" >0.87</td>\n",
       "                        <td id=\"T_ad6ab734_5580_11ed_a10f_7cb27d331107row6_col1\" class=\"data row6 col1\" >0.85</td>\n",
       "                        <td id=\"T_ad6ab734_5580_11ed_a10f_7cb27d331107row6_col2\" class=\"data row6 col2\" >0.90</td>\n",
       "                        <td id=\"T_ad6ab734_5580_11ed_a10f_7cb27d331107row6_col3\" class=\"data row6 col3\" >0.86</td>\n",
       "                        <td id=\"T_ad6ab734_5580_11ed_a10f_7cb27d331107row6_col4\" class=\"data row6 col4\" >0.89</td>\n",
       "                        <td id=\"T_ad6ab734_5580_11ed_a10f_7cb27d331107row6_col5\" class=\"data row6 col5\" >-0.91</td>\n",
       "                        <td id=\"T_ad6ab734_5580_11ed_a10f_7cb27d331107row6_col6\" class=\"data row6 col6\" >1.00</td>\n",
       "            </tr>\n",
       "    </tbody></table>"
      ],
      "text/plain": [
       "<pandas.io.formats.style.Styler at 0x7fdd5fb0d7b8>"
      ]
     },
     "metadata": {},
     "output_type": "display_data"
    }
   ],
   "source": [
    "# Plot de matriz de correlação (Pearson)\n",
    "corr = df.iloc[:, 1:].corr() \n",
    "display(corr.style.background_gradient(cmap='BuGn').set_precision(2))"
   ]
  },
  {
   "cell_type": "markdown",
   "metadata": {},
   "source": [
    "Selecionando alguns campos para explorar mais.\n"
   ]
  },
  {
   "cell_type": "code",
   "execution_count": 122,
   "metadata": {
    "button": false,
    "new_sheet": false,
    "run_control": {
     "read_only": false
    }
   },
   "outputs": [
    {
     "data": {
      "text/html": [
       "<div>\n",
       "<style scoped>\n",
       "    .dataframe tbody tr th:only-of-type {\n",
       "        vertical-align: middle;\n",
       "    }\n",
       "\n",
       "    .dataframe tbody tr th {\n",
       "        vertical-align: top;\n",
       "    }\n",
       "\n",
       "    .dataframe thead th {\n",
       "        text-align: right;\n",
       "    }\n",
       "</style>\n",
       "<table border=\"1\" class=\"dataframe\">\n",
       "  <thead>\n",
       "    <tr style=\"text-align: right;\">\n",
       "      <th></th>\n",
       "      <th>ENGINESIZE</th>\n",
       "      <th>CYLINDERS</th>\n",
       "      <th>FUELCONSCOMB</th>\n",
       "      <th>CO2EMISSIONS</th>\n",
       "    </tr>\n",
       "  </thead>\n",
       "  <tbody>\n",
       "    <tr>\n",
       "      <th>0</th>\n",
       "      <td>2.0</td>\n",
       "      <td>4</td>\n",
       "      <td>8.5</td>\n",
       "      <td>196</td>\n",
       "    </tr>\n",
       "    <tr>\n",
       "      <th>1</th>\n",
       "      <td>2.4</td>\n",
       "      <td>4</td>\n",
       "      <td>9.6</td>\n",
       "      <td>221</td>\n",
       "    </tr>\n",
       "    <tr>\n",
       "      <th>2</th>\n",
       "      <td>1.5</td>\n",
       "      <td>4</td>\n",
       "      <td>5.9</td>\n",
       "      <td>136</td>\n",
       "    </tr>\n",
       "    <tr>\n",
       "      <th>3</th>\n",
       "      <td>3.5</td>\n",
       "      <td>6</td>\n",
       "      <td>11.1</td>\n",
       "      <td>255</td>\n",
       "    </tr>\n",
       "    <tr>\n",
       "      <th>4</th>\n",
       "      <td>3.5</td>\n",
       "      <td>6</td>\n",
       "      <td>10.6</td>\n",
       "      <td>244</td>\n",
       "    </tr>\n",
       "    <tr>\n",
       "      <th>5</th>\n",
       "      <td>3.5</td>\n",
       "      <td>6</td>\n",
       "      <td>10.0</td>\n",
       "      <td>230</td>\n",
       "    </tr>\n",
       "    <tr>\n",
       "      <th>6</th>\n",
       "      <td>3.5</td>\n",
       "      <td>6</td>\n",
       "      <td>10.1</td>\n",
       "      <td>232</td>\n",
       "    </tr>\n",
       "    <tr>\n",
       "      <th>7</th>\n",
       "      <td>3.7</td>\n",
       "      <td>6</td>\n",
       "      <td>11.1</td>\n",
       "      <td>255</td>\n",
       "    </tr>\n",
       "    <tr>\n",
       "      <th>8</th>\n",
       "      <td>3.7</td>\n",
       "      <td>6</td>\n",
       "      <td>11.6</td>\n",
       "      <td>267</td>\n",
       "    </tr>\n",
       "  </tbody>\n",
       "</table>\n",
       "</div>"
      ],
      "text/plain": [
       "   ENGINESIZE  CYLINDERS  FUELCONSCOMB  CO2EMISSIONS\n",
       "0         2.0          4           8.5           196\n",
       "1         2.4          4           9.6           221\n",
       "2         1.5          4           5.9           136\n",
       "3         3.5          6          11.1           255\n",
       "4         3.5          6          10.6           244\n",
       "5         3.5          6          10.0           230\n",
       "6         3.5          6          10.1           232\n",
       "7         3.7          6          11.1           255\n",
       "8         3.7          6          11.6           267"
      ]
     },
     "execution_count": 122,
     "metadata": {},
     "output_type": "execute_result"
    }
   ],
   "source": [
    "cdf = df[['ENGINESIZE','CYLINDERS','FUELCONSCOMB','CO2EMISSIONS']]\n",
    "cdf.head(9)"
   ]
  },
  {
   "cell_type": "markdown",
   "metadata": {},
   "source": [
    "### Data Visualization\n",
    "\n",
    "Vamos primeiro fazer uma exploração descritiva em nossos dados."
   ]
  },
  {
   "cell_type": "code",
   "execution_count": 123,
   "metadata": {
    "button": false,
    "new_sheet": false,
    "run_control": {
     "read_only": false
    }
   },
   "outputs": [
    {
     "data": {
      "image/png": "[encoded data removed]",
      "text/plain": [
       "<Figure size 720x720 with 4 Axes>"
      ]
     },
     "metadata": {
      "needs_background": "light"
     },
     "output_type": "display_data"
    }
   ],
   "source": [
    "viz = cdf[['CYLINDERS','ENGINESIZE','CO2EMISSIONS','FUELCONSCOMB']]\n",
    "viz.hist(figsize=(10, 10))\n",
    "plt.show()"
   ]
  },
  {
   "cell_type": "code",
   "execution_count": null,
   "metadata": {},
   "outputs": [],
   "source": []
  },
  {
   "cell_type": "markdown",
   "metadata": {},
   "source": [
    "Nós podemos plotar cada um destes campos\n"
   ]
  },
  {
   "cell_type": "markdown",
   "metadata": {},
   "source": [
    "Agora, vamos plotar cada um desses recursos em relação à Emissão, para ver quão linear é seu relacionamento:\n"
   ]
  },
  {
   "cell_type": "code",
   "execution_count": 124,
   "metadata": {
    "button": false,
    "new_sheet": false,
    "run_control": {
     "read_only": false
    }
   },
   "outputs": [
    {
     "data": {
      "image/png": "[encoded data removed]",
      "text/plain": [
       "<Figure size 432x288 with 1 Axes>"
      ]
     },
     "metadata": {
      "needs_background": "light"
     },
     "output_type": "display_data"
    }
   ],
   "source": [
    "plt.scatter(cdf.FUELCONSCOMB, cdf.CO2EMISSIONS,  color='blue')\n",
    "plt.xlabel(\"FUELCONSCOMB\")\n",
    "plt.ylabel(\"Emission\")\n",
    "plt.show()"
   ]
  },
  {
   "cell_type": "code",
   "execution_count": 125,
   "metadata": {
    "button": false,
    "new_sheet": false,
    "run_control": {
     "read_only": false
    },
    "scrolled": true
   },
   "outputs": [
    {
     "data": {
      "image/png": "[encoded data removed]",
      "text/plain": [
       "<Figure size 432x288 with 1 Axes>"
      ]
     },
     "metadata": {
      "needs_background": "light"
     },
     "output_type": "display_data"
    }
   ],
   "source": [
    "plt.scatter(cdf.ENGINESIZE, cdf.CO2EMISSIONS,  color='blue')\n",
    "plt.xlabel(\"Engine size\")\n",
    "plt.ylabel(\"Emission\")\n",
    "plt.show()"
   ]
  },
  {
   "cell_type": "markdown",
   "metadata": {},
   "source": [
    "## Data Visualization\n",
    "\n",
    "Plot **CYLINDER** vs the **Emission**, para ver o quão linear é o relacionamento entre eles."
   ]
  },
  {
   "cell_type": "code",
   "execution_count": 126,
   "metadata": {
    "button": false,
    "new_sheet": false,
    "run_control": {
     "read_only": false
    }
   },
   "outputs": [
    {
     "data": {
      "image/png": "[encoded data removed]",
      "text/plain": [
       "<Figure size 360x360 with 1 Axes>"
      ]
     },
     "metadata": {
      "needs_background": "light"
     },
     "output_type": "display_data"
    }
   ],
   "source": [
    "# Escreva o seu código aqui\n",
    "dfEmission = sns.lmplot(x='CYLINDERS', y='CO2EMISSIONS', data=cdf)"
   ]
  },
  {
   "cell_type": "code",
   "execution_count": 127,
   "metadata": {},
   "outputs": [
    {
     "data": {
      "image/png": "[encoded data removed]",
      "text/plain": [
       "<Figure size 432x288 with 1 Axes>"
      ]
     },
     "metadata": {
      "needs_background": "light"
     },
     "output_type": "display_data"
    }
   ],
   "source": [
    "plt.scatter(cdf.CYLINDERS, cdf.CO2EMISSIONS, color='blue')\n",
    "plt.xlabel(\"Cylinders\")\n",
    "plt.ylabel(\"Emission\")\n",
    "plt.show()"
   ]
  },
  {
   "cell_type": "markdown",
   "metadata": {},
   "source": [
    "<details>\n",
    "    <summary>Click here for the solution</summary>\n",
    "\n",
    "```python\n",
    "plt.scatter(cdf.CYLINDERS, cdf.CO2EMISSIONS, color='blue')\n",
    "plt.xlabel(\"Cylinders\")\n",
    "plt.ylabel(\"Emission\")\n",
    "plt.show()\n",
    "\n",
    "```\n",
    "\n",
    "</details>\n"
   ]
  },
  {
   "cell_type": "markdown",
   "metadata": {
    "button": false,
    "new_sheet": false,
    "run_control": {
     "read_only": false
    }
   },
   "source": [
    "## Dataset de Treino e Teste\n",
    "---\n",
    "* A divisão de treinamento/teste envolve a divisão do conjunto de dados em conjuntos de treinamento e teste que são mutuamente exclusivos. Depois disso, você treina com o conjunto de treinamento e testa com o conjunto de teste.<br><br>\n",
    "* Isso fornecerá uma avaliação mais precisa da precisão fora da amostra porque o conjunto de dados de teste não faz parte do conjunto de dados que foi usado para treinar o modelo. Portanto, isso nos dá uma melhor compreensão de quão bem nosso modelo generaliza em novos dados.\n",
    "<br><br>\n",
    "* Isso significa que sabemos o resultado de cada ponto de dados no conjunto de dados de teste, tornando-o ótimo para testar! Como esses dados não foram usados para treinar o modelo, o modelo não tem conhecimento do resultado desses pontos de dados. Então, em essência, é realmente um teste fora da amostra.\n",
    "<br><br>\n",
    "* Vamos dividir nosso conjunto de dados em conjuntos de treinamento e teste. \n",
    "    - 70% de todo o conjunto de dados será usado para treinamento e \n",
    "    - 30% para teste. \n",
    "<br><br>\n",
    "\n",
    "**Obs.:** Criamos uma máscara para selecionar linhas aleatórias usando a função **np.random.rand()**:\n"
   ]
  },
  {
   "cell_type": "code",
   "execution_count": 128,
   "metadata": {},
   "outputs": [
    {
     "data": {
      "text/plain": [
       "(1067, 13)"
      ]
     },
     "execution_count": 128,
     "metadata": {},
     "output_type": "execute_result"
    }
   ],
   "source": [
    "df.shape"
   ]
  },
  {
   "cell_type": "code",
   "execution_count": 129,
   "metadata": {
    "button": false,
    "new_sheet": false,
    "run_control": {
     "read_only": false
    }
   },
   "outputs": [],
   "source": [
    "msk = np.random.rand(len(df)) < 0.75\n",
    "dfTrain = cdf[msk]\n",
    "dfTest = cdf[~msk]"
   ]
  },
  {
   "cell_type": "code",
   "execution_count": 130,
   "metadata": {},
   "outputs": [
    {
     "name": "stdout",
     "output_type": "stream",
     "text": [
      "Dataset de Treino =  (807, 4)\n",
      "Dataset de Test   =  (260, 4)\n"
     ]
    }
   ],
   "source": [
    "print('Dataset de Treino = ', dfTrain.shape)\n",
    "print('Dataset de Test   = ', dfTest.shape)"
   ]
  },
  {
   "cell_type": "markdown",
   "metadata": {
    "button": false,
    "new_sheet": false,
    "run_control": {
     "read_only": false
    }
   },
   "source": [
    "### Simple Regression Model\n",
    "\n",
    "A Regressão Linear ajusta um modelo linear com coeficientes B = (B1, ..., Bn) para minimizar a 'soma dos quadrados residual' entre o valor real y no conjunto de dados e o valor previsto yhat usando aproximação linear."
   ]
  },
  {
   "cell_type": "markdown",
   "metadata": {
    "button": false,
    "new_sheet": false,
    "run_control": {
     "read_only": false
    }
   },
   "source": [
    "#### Treino - Distribuição de Dados (Data distribution)\n"
   ]
  },
  {
   "cell_type": "code",
   "execution_count": 131,
   "metadata": {
    "button": false,
    "new_sheet": false,
    "run_control": {
     "read_only": false
    }
   },
   "outputs": [
    {
     "data": {
      "image/png": "[encoded data removed]",
      "text/plain": [
       "<Figure size 432x288 with 1 Axes>"
      ]
     },
     "metadata": {
      "needs_background": "light"
     },
     "output_type": "display_data"
    }
   ],
   "source": [
    "plt.scatter(dfTrain.ENGINESIZE, dfTrain.CO2EMISSIONS,  color='blue')\n",
    "plt.xlabel(\"Engine size\")\n",
    "plt.ylabel(\"Emission\")\n",
    "plt.show()"
   ]
  },
  {
   "cell_type": "code",
   "execution_count": 132,
   "metadata": {},
   "outputs": [
    {
     "data": {
      "text/plain": [
       "<seaborn.axisgrid.FacetGrid at 0x7fdd5fa38f28>"
      ]
     },
     "execution_count": 132,
     "metadata": {},
     "output_type": "execute_result"
    },
    {
     "data": {
      "image/png": "[encoded data removed]",
      "text/plain": [
       "<Figure size 360x360 with 1 Axes>"
      ]
     },
     "metadata": {
      "needs_background": "light"
     },
     "output_type": "display_data"
    }
   ],
   "source": [
    "sns.relplot(x='ENGINESIZE', y='CO2EMISSIONS', data=dfTrain)"
   ]
  },
  {
   "cell_type": "markdown",
   "metadata": {
    "button": false,
    "new_sheet": false,
    "run_control": {
     "read_only": false
    }
   },
   "source": [
    "### Modelo\n",
    "\n",
    "Usando a biblioteca sklearn package para modelar os dados.\n"
   ]
  },
  {
   "cell_type": "code",
   "execution_count": 133,
   "metadata": {
    "button": false,
    "new_sheet": false,
    "run_control": {
     "read_only": false
    }
   },
   "outputs": [
    {
     "name": "stdout",
     "output_type": "stream",
     "text": [
      "Coefficients:  [[39.19178713]]\n",
      "Intercept:  [124.29277624]\n"
     ]
    }
   ],
   "source": [
    "# Import da biblioteca sklearn\n",
    "from sklearn import linear_model\n",
    "\n",
    "# Modelo de Regressão Linear\n",
    "regr = linear_model.LinearRegression()\n",
    "\n",
    "# Treinando os valores de X (Var Independente - Explicativa)  e Y (Var Dependente - Alvo/Target)\n",
    "train_x = np.asanyarray(dfTrain[['ENGINESIZE']])\n",
    "train_y = np.asanyarray(dfTrain[['CO2EMISSIONS']])\n",
    "\n",
    "# Realizando o Ajuste da Linha\n",
    "regr.fit(train_x, train_y)\n",
    "\n",
    "# Definindo os valores do coefficients - Theta 0: Intercepto e Theta 1: Coeficiente\n",
    "print ('Coefficients: ', regr.coef_)\n",
    "print ('Intercept: ', regr.intercept_)"
   ]
  },
  {
   "cell_type": "markdown",
   "metadata": {},
   "source": [
    "Como mencionado anteriormente, **Coeficiente** e **Interceptação** na regressão linear simples, são os parâmetros da linha de ajuste. \n",
    "<br><br>\n",
    "Dado que se trata de uma regressão linear simples, com apenas **2 parâmetros**, e sabendo que os parâmetros são o intercepto e a inclinação da linha, o **sklearn** pode estimá-los diretamente a partir de nossos dados. \n",
    "<br><br>\n",
    "Observe que todos os dados devem estar disponíveis para percorrer e calcular os parâmetros.\n"
   ]
  },
  {
   "cell_type": "markdown",
   "metadata": {
    "button": false,
    "new_sheet": false,
    "run_control": {
     "read_only": false
    }
   },
   "source": [
    "### Plotagem de Gráficos\n",
    "Podemos traçar a linha de ajuste sobre os dados"
   ]
  },
  {
   "cell_type": "code",
   "execution_count": 134,
   "metadata": {
    "button": false,
    "new_sheet": false,
    "run_control": {
     "read_only": false
    }
   },
   "outputs": [
    {
     "data": {
      "text/plain": [
       "Text(0, 0.5, 'Emission')"
      ]
     },
     "execution_count": 134,
     "metadata": {},
     "output_type": "execute_result"
    },
    {
     "data": {
      "image/png": "[encoded data removed]",
      "text/plain": [
       "<Figure size 432x288 with 1 Axes>"
      ]
     },
     "metadata": {
      "needs_background": "light"
     },
     "output_type": "display_data"
    }
   ],
   "source": [
    "plt.scatter(dfTrain.ENGINESIZE, dfTrain.CO2EMISSIONS,  color='blue')\n",
    "plt.plot(train_x, regr.coef_[0][0]*train_x + regr.intercept_[0], '-r')\n",
    "plt.xlabel(\"Engine size\")\n",
    "plt.ylabel(\"Emission\")"
   ]
  },
  {
   "cell_type": "code",
   "execution_count": 135,
   "metadata": {},
   "outputs": [
    {
     "data": {
      "text/plain": [
       "<seaborn.axisgrid.FacetGrid at 0x7fdd5f81a860>"
      ]
     },
     "execution_count": 135,
     "metadata": {},
     "output_type": "execute_result"
    },
    {
     "data": {
      "image/png": "[encoded data removed]",
      "text/plain": [
       "<Figure size 360x360 with 1 Axes>"
      ]
     },
     "metadata": {
      "needs_background": "light"
     },
     "output_type": "display_data"
    }
   ],
   "source": [
    "sns.lmplot(x='ENGINESIZE', y='CO2EMISSIONS', line_kws={\"color\": \"C1\"}, data=dfTrain)"
   ]
  },
  {
   "cell_type": "code",
   "execution_count": 136,
   "metadata": {},
   "outputs": [
    {
     "data": {
      "image/png": "[encoded data removed]",
      "text/plain": [
       "<Figure size 432x288 with 1 Axes>"
      ]
     },
     "metadata": {
      "needs_background": "light"
     },
     "output_type": "display_data"
    }
   ],
   "source": [
    "import seaborn as sns\n",
    "import matplotlib.pyplot as plt\n",
    "from scipy import stats\n",
    "\n",
    "# get coeffs of linear fit\n",
    "slope, intercept, r_value, p_value, std_err = stats.linregress(dfTrain['ENGINESIZE'],dfTrain['CO2EMISSIONS'])\n",
    "\n",
    "# use line_kws to set line label for legend\n",
    "ax = sns.regplot(x=\"ENGINESIZE\", \n",
    "                 y=\"CO2EMISSIONS\", \n",
    "                 data=dfTrain, color='b',\n",
    "                 line_kws={'label':\"y={0:.1f}x + {1:.1f}\".format(slope,intercept),\"color\": \"C1\"})\n",
    "\n",
    "# plot legend\n",
    "ax.legend()\n",
    "\n",
    "plt.show()"
   ]
  },
  {
   "cell_type": "markdown",
   "metadata": {
    "button": false,
    "new_sheet": false,
    "run_control": {
     "read_only": false
    }
   },
   "source": [
    "### Avaliação (Teste & Validação)\n",
    "\n",
    "* Comparamos os valores reais e os valores previstos para calcular a precisão de um modelo de regressão. \n",
    "* As métricas de avaliação desempenham um papel fundamental no desenvolvimento de um modelo, pois fornecem insights para áreas que precisam ser aprimoradas.\n",
    "\n",
    "Existem diferentes métricas de avaliação do modelo, vamos usar o MSE aqui para calcular a precisão do nosso modelo com base no conjunto de teste:\n",
    "\n",
    "*   **Mean Absolute Error:** É a média do valor absoluto dos erros. Essa é a métrica mais fácil de entender, pois é apenas um erro médio. <br><br>\n",
    "\n",
    "*   **Mean Squared Error (MSE):** O erro quadrático médio (MSE) é a média do erro quadrático. É mais popular que o erro médio absoluto porque o foco é mais voltado para erros grandes. Isso se deve ao fato de o termo quadrado aumentar exponencialmente os erros maiores em comparação com os menores.<br><br>\n",
    "\n",
    "*   **Root Mean Squared Error (RMSE)**.<br><br>\n",
    "\n",
    "*   **R-squared** não é um erro, mas sim uma métrica popular para medir o desempenho do seu modelo de regressão. Ele representa o quão perto os pontos de dados estão da linha de regressão ajustada. Quanto maior o valor do R-quadrado, melhor o modelo se ajusta aos seus dados. A melhor pontuação possível é 1,0 e pode ser negativa (porque o modelo pode ser arbitrariamente pior)."
   ]
  },
  {
   "cell_type": "code",
   "execution_count": 137,
   "metadata": {
    "button": false,
    "new_sheet": false,
    "run_control": {
     "read_only": false
    },
    "scrolled": true
   },
   "outputs": [
    {
     "name": "stdout",
     "output_type": "stream",
     "text": [
      "Mean Absolute Error: 22.21\n",
      "Residual sum of squares (MSE): 864.61\n",
      "R2-score: 0.77\n"
     ]
    }
   ],
   "source": [
    "from sklearn.metrics import r2_score\n",
    "\n",
    "# Testando os valores de X (Var Independente - Explicativa)  e Y (Var Dependente - Alvo/Target)\n",
    "test_x = np.asanyarray(dfTest[['ENGINESIZE']])\n",
    "test_y = np.asanyarray(dfTest[['CO2EMISSIONS']])\n",
    "\n",
    "# Cálculo do Modelo de Previsão\n",
    "test_y_ = regr.predict(test_x)\n",
    "\n",
    "# Verificando os Scores de relação entre as variáveis\n",
    "print(\"Mean Absolute Error: %.2f\" % np.mean(np.absolute(test_y_ - test_y)))\n",
    "print(\"Residual sum of squares (MSE): %.2f\" % np.mean((test_y_ - test_y) ** 2))\n",
    "print(\"R2-score: %.2f\" % r2_score(test_y , test_y_) )"
   ]
  },
  {
   "cell_type": "markdown",
   "metadata": {},
   "source": [
    "## Exercício\n"
   ]
  },
  {
   "cell_type": "markdown",
   "metadata": {},
   "source": [
    "\n",
    "Vamos ver quais são as métricas de avaliação se treinamos um modelo de regressão usando a variável **'FUELCONSUMPTION_COMB'**.\n",
    "\n",
    "Comece selecionando **'FUELCONSUMPTION_COMB'** como os dados train_x do dataframe **'dfTrain'**, então selecione **'FUELCONSUMPTION_COMB'** como os dados test_x do dataframe **'dfTest'**\n"
   ]
  },
  {
   "cell_type": "code",
   "execution_count": 138,
   "metadata": {},
   "outputs": [],
   "source": [
    "# Import da biblioteca sklearn\n",
    "from sklearn import linear_model\n",
    "from sklearn.metrics import r2_score\n",
    "\n",
    "# Modelo de Regressão Linear\n",
    "regr = linear_model.LinearRegression()\n",
    "\n",
    "# Treinando os valores de X (Var Independente - Explicativa)  e Y (Var Dependente - Alvo/Target)\n",
    "train_x = np.asanyarray(dfTrain[['FUELCONSCOMB']])\n",
    "train_y = np.asanyarray(dfTrain[['CO2EMISSIONS']])\n",
    "\n",
    "# Testando os valores de X (Var Independente - Explicativa)  e Y (Var Dependente - Alvo/Target)\n",
    "test_x = np.asanyarray(dfTest[['FUELCONSCOMB']])\n",
    "test_y = np.asanyarray(dfTest[['CO2EMISSIONS']])"
   ]
  },
  {
   "cell_type": "markdown",
   "metadata": {},
   "source": [
    "Agora treine um modelo de regressão linear usando o **'train_x'** que você criou e o **'train_y'** criado anteriormente"
   ]
  },
  {
   "cell_type": "code",
   "execution_count": 139,
   "metadata": {},
   "outputs": [
    {
     "name": "stdout",
     "output_type": "stream",
     "text": [
      "Coefficients:  [[16.24846913]]\n",
      "Intercept:  [68.11400139]\n"
     ]
    }
   ],
   "source": [
    "#ADD CODE# Realizando o Ajuste da Linha\n",
    "regr.fit(train_x, train_y)\n",
    "\n",
    "# Definindo os valores do coefficients - Theta 0: Intercepto e Theta 1: Coeficiente\n",
    "print ('Coefficients: ', regr.coef_)\n",
    "print ('Intercept: ', regr.intercept_)"
   ]
  },
  {
   "cell_type": "markdown",
   "metadata": {},
   "source": [
    "Encontre as previsões usando a função de previsão do modelo e os dados **'test_x'**\n"
   ]
  },
  {
   "cell_type": "code",
   "execution_count": 140,
   "metadata": {},
   "outputs": [],
   "source": [
    "\n",
    "# Cálculo do Modelo de Previsão\n",
    "test_y_ = regr.predict(test_x)"
   ]
  },
  {
   "cell_type": "markdown",
   "metadata": {},
   "source": [
    "Finalmente, use as **previsões** e os dados **test_y** e encontre o valor do Erro Absoluto Médio usando a função **np.absolute** e **np.mean** como feito anteriormente\n"
   ]
  },
  {
   "cell_type": "code",
   "execution_count": 141,
   "metadata": {},
   "outputs": [
    {
     "name": "stdout",
     "output_type": "stream",
     "text": [
      "Mean Absolute Error: 19.31\n",
      "Residual sum of squares (MSE): 783.90\n",
      "R2-score: 0.79\n"
     ]
    }
   ],
   "source": [
    "#ADD CODE\n",
    "# Verificando os Scores de relação entre as variáveis\n",
    "print(\"Mean Absolute Error: %.2f\" % np.mean(np.absolute(test_y_ - test_y)))\n",
    "print(\"Residual sum of squares (MSE): %.2f\" % np.mean((test_y_ - test_y) ** 2))\n",
    "print(\"R2-score: %.2f\" % r2_score(test_y , test_y_) )"
   ]
  },
  {
   "cell_type": "markdown",
   "metadata": {},
   "source": [
    "Podemos ver que o mean é muito pior quando treinamos usando **ENGINESIZE** do que **FUELCONSUMPTION_COMB**\n"
   ]
  },
  {
   "cell_type": "markdown",
   "metadata": {},
   "source": [
    "---\n",
    "### Thank you"
   ]
  }
 ],
 "metadata": {
  "kernelspec": {
   "display_name": "Python 3.6.9 64-bit",
   "language": "python",
   "name": "python3"
  },
  "language_info": {
   "codemirror_mode": {
    "name": "ipython",
    "version": 3
   },
   "file_extension": ".py",
   "mimetype": "text/x-python",
   "name": "python",
   "nbconvert_exporter": "python",
   "pygments_lexer": "ipython3",
   "version": "3.6.9"
  },
  "vscode": {
   "interpreter": {
    "hash": "31f2aee4e71d21fbe5cf8b01ff0e069b9275f58929596ceb00d14d90e3e16cd6"
   }
  },
  "widgets": {
   "state": {},
   "version": "1.1.2"
  }
 },
 "nbformat": 4,
 "nbformat_minor": 4
}
